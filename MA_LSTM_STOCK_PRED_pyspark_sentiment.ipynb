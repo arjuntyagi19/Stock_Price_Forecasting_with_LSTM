{
  "nbformat": 4,
  "nbformat_minor": 0,
  "metadata": {
    "colab": {
      "provenance": [],
      "gpuType": "T4"
    },
    "kernelspec": {
      "name": "python3",
      "display_name": "Python 3"
    },
    "language_info": {
      "name": "python"
    },
    "accelerator": "GPU"
  },
  "cells": [
    {
      "cell_type": "markdown",
      "source": [
        "##Arjun tyagi\n",
        "PRN-(21070126020)\n",
        "##Stock Price Forecasting with Long Short-Term Memory (LSTM) Models"
      ],
      "metadata": {
        "id": "lapjgSgxRb0D"
      }
    },
    {
      "cell_type": "code",
      "execution_count": null,
      "metadata": {
        "id": "lUCvmoUOyeib"
      },
      "outputs": [],
      "source": [
        "import numpy as np\n",
        "import pandas as pd\n",
        "import matplotlib.pyplot as plt\n",
        "import pandas_datareader as data\n",
        "import  yfinance as yf\n",
        "\n",
        "from pyspark.sql import SparkSession\n",
        "import yfinance as yf\n",
        "\n",
        "# Initialize a Spark session\n",
        "spark = SparkSession.builder.appName('StockPrediction').getOrCreate()\n"
      ]
    },
    {
      "cell_type": "code",
      "source": [
        "# Download stock data\n",
        "start = '2010-01-01'\n",
        "end = '2024-08-31'\n",
        "df = yf.download('TATASTEEL.NS', start=start, end=end)\n",
        "\n",
        "# Convert the downloaded data to a Spark DataFrame\n",
        "df_spark = spark.createDataFrame(df.reset_index())\n",
        "df_spark.show()\n"
      ],
      "metadata": {
        "colab": {
          "base_uri": "https://localhost:8080/"
        },
        "id": "-KjtI7VS5TxF",
        "outputId": "d2834aa6-7c13-4dcb-87da-8a04f0a04961"
      },
      "execution_count": null,
      "outputs": [
        {
          "output_type": "stream",
          "name": "stderr",
          "text": [
            "\r[*********************100%***********************]  1 of 1 completed\n"
          ]
        },
        {
          "output_type": "stream",
          "name": "stdout",
          "text": [
            "+-------------------+-----------------------------+-------------------------+------------------------+-----------------------+------------------------+--------------------------+\n",
            "|       ('Date', '')|('Adj Close', 'TATASTEEL.NS')|('Close', 'TATASTEEL.NS')|('High', 'TATASTEEL.NS')|('Low', 'TATASTEEL.NS')|('Open', 'TATASTEEL.NS')|('Volume', 'TATASTEEL.NS')|\n",
            "+-------------------+-----------------------------+-------------------------+------------------------+-----------------------+------------------------+--------------------------+\n",
            "|2010-01-04 00:00:00|           19.329814910888672|        60.37968444824219|      60.641685485839844|     58.774322509765625|       59.26021957397461|                  58460615|\n",
            "|2010-01-05 00:00:00|           19.798004150390625|        61.84213638305664|      62.385196685791016|     60.836997985839844|      60.836997985839844|                  81889733|\n",
            "|2010-01-06 00:00:00|           19.582969665527344|        61.17045593261719|      62.880619049072266|      60.68932342529297|      62.880619049072266|                  77150753|\n",
            "|2010-01-07 00:00:00|           19.819353103637695|         61.9088249206543|       62.19464874267578|      60.98467254638672|      61.441986083984375|                  80144960|\n",
            "|2010-01-08 00:00:00|           19.778179168701172|       61.780208587646484|      63.023529052734375|     61.060890197753906|      62.023155212402344|                  86063510|\n",
            "|2010-01-11 00:00:00|           19.779701232910156|       61.784969329833984|       62.48999786376953|       61.4705696105957|      61.927879333496094|                  69701832|\n",
            "|2010-01-12 00:00:00|             19.0797119140625|        59.59843826293945|       61.80878829956055|      59.43647384643555|        61.1180534362793|                  71713280|\n",
            "|2010-01-13 00:00:00|            19.49757194519043|       60.903690338134766|      61.146636962890625|      58.59330368041992|       58.59330368041992|                 108267579|\n",
            "|2010-01-14 00:00:00|            19.75530242919922|         61.7087516784668|       62.04220962524414|      61.12281799316406|       61.42769241333008|                  69719623|\n",
            "|2010-01-15 00:00:00|           19.677528381347656|        61.46580505371094|       62.01839065551758|      60.97514343261719|      61.927879333496094|                  45054843|\n",
            "|2010-01-18 00:00:00|           19.444194793701172|       60.736961364746094|       61.16569137573242|      60.09386444091797|       61.16569137573242|                  62440445|\n",
            "|2010-01-19 00:00:00|           19.448772430419922|       60.751251220703125|        61.5086784362793|     60.212955474853516|      60.594051361083984|                  52644632|\n",
            "|2010-01-20 00:00:00|           19.938312530517578|         62.2803955078125|       62.63290786743164|      60.78459548950195|       60.78459548950195|                  83223827|\n",
            "|2010-01-21 00:00:00|            19.76445198059082|       61.737335205078125|       62.83298110961914|     61.189510345458984|      61.880245208740234|                 114584655|\n",
            "|2010-01-22 00:00:00|           19.049213409423828|        59.50316619873047|        61.0799446105957|     58.783851623535156|        61.0799446105957|                  92159151|\n",
            "|2010-01-25 00:00:00|           18.602375030517578|        58.10740661621094|       59.61273193359375|      57.82158660888672|      59.069671630859375|                  55929884|\n",
            "|2010-01-27 00:00:00|            17.06971549987793|        53.31990432739258|       57.70725631713867|      52.71015548706055|       57.15467071533203|                 114462197|\n",
            "|2010-01-28 00:00:00|            17.85511016845703|        55.77320098876953|            56.154296875|     53.829620361328125|       53.92489242553711|                 132070852|\n",
            "|2010-01-29 00:00:00|           17.357948303222656|        54.22024154663086|       55.35399627685547|      52.56248092651367|       55.06817626953125|                 121650868|\n",
            "|2010-02-01 00:00:00|            17.68583106994629|        55.24443435668945|       55.71603775024414|      53.15793991088867|       53.35325241088867|                  72603684|\n",
            "+-------------------+-----------------------------+-------------------------+------------------------+-----------------------+------------------------+--------------------------+\n",
            "only showing top 20 rows\n",
            "\n"
          ]
        }
      ]
    },
    {
      "cell_type": "code",
      "source": [
        "df=df.reset_index()\n",
        "df.tail()"
      ],
      "metadata": {
        "colab": {
          "base_uri": "https://localhost:8080/",
          "height": 238
        },
        "id": "wSkAFhhA8CB1",
        "outputId": "f0f35baa-e982-46d2-dacd-c565383ce508"
      },
      "execution_count": null,
      "outputs": [
        {
          "output_type": "execute_result",
          "data": {
            "text/plain": [
              "Price                       Date    Adj Close        Close         High  \\\n",
              "Ticker                           TATASTEEL.NS TATASTEEL.NS TATASTEEL.NS   \n",
              "3612   2024-08-26 00:00:00+00:00   155.699997   155.699997   156.399994   \n",
              "3613   2024-08-27 00:00:00+00:00   154.699997   154.699997   156.500000   \n",
              "3614   2024-08-28 00:00:00+00:00   153.699997   153.699997   155.000000   \n",
              "3615   2024-08-29 00:00:00+00:00   152.970001   152.970001   153.559998   \n",
              "3616   2024-08-30 00:00:00+00:00   152.759995   152.759995   155.250000   \n",
              "\n",
              "Price           Low         Open       Volume  \n",
              "Ticker TATASTEEL.NS TATASTEEL.NS TATASTEEL.NS  \n",
              "3612     153.699997   154.610001     32497603  \n",
              "3613     154.600006   155.800003     24523684  \n",
              "3614     153.050003   154.699997     25195197  \n",
              "3615     151.199997   153.210007     44452983  \n",
              "3616     152.470001   153.000000     55134023  "
            ],
            "text/html": [
              "\n",
              "  <div id=\"df-94253a31-aa96-49d1-ab13-52cf8a41d778\" class=\"colab-df-container\">\n",
              "    <div>\n",
              "<style scoped>\n",
              "    .dataframe tbody tr th:only-of-type {\n",
              "        vertical-align: middle;\n",
              "    }\n",
              "\n",
              "    .dataframe tbody tr th {\n",
              "        vertical-align: top;\n",
              "    }\n",
              "\n",
              "    .dataframe thead tr th {\n",
              "        text-align: left;\n",
              "    }\n",
              "</style>\n",
              "<table border=\"1\" class=\"dataframe\">\n",
              "  <thead>\n",
              "    <tr>\n",
              "      <th>Price</th>\n",
              "      <th>Date</th>\n",
              "      <th>Adj Close</th>\n",
              "      <th>Close</th>\n",
              "      <th>High</th>\n",
              "      <th>Low</th>\n",
              "      <th>Open</th>\n",
              "      <th>Volume</th>\n",
              "    </tr>\n",
              "    <tr>\n",
              "      <th>Ticker</th>\n",
              "      <th></th>\n",
              "      <th>TATASTEEL.NS</th>\n",
              "      <th>TATASTEEL.NS</th>\n",
              "      <th>TATASTEEL.NS</th>\n",
              "      <th>TATASTEEL.NS</th>\n",
              "      <th>TATASTEEL.NS</th>\n",
              "      <th>TATASTEEL.NS</th>\n",
              "    </tr>\n",
              "  </thead>\n",
              "  <tbody>\n",
              "    <tr>\n",
              "      <th>3612</th>\n",
              "      <td>2024-08-26 00:00:00+00:00</td>\n",
              "      <td>155.699997</td>\n",
              "      <td>155.699997</td>\n",
              "      <td>156.399994</td>\n",
              "      <td>153.699997</td>\n",
              "      <td>154.610001</td>\n",
              "      <td>32497603</td>\n",
              "    </tr>\n",
              "    <tr>\n",
              "      <th>3613</th>\n",
              "      <td>2024-08-27 00:00:00+00:00</td>\n",
              "      <td>154.699997</td>\n",
              "      <td>154.699997</td>\n",
              "      <td>156.500000</td>\n",
              "      <td>154.600006</td>\n",
              "      <td>155.800003</td>\n",
              "      <td>24523684</td>\n",
              "    </tr>\n",
              "    <tr>\n",
              "      <th>3614</th>\n",
              "      <td>2024-08-28 00:00:00+00:00</td>\n",
              "      <td>153.699997</td>\n",
              "      <td>153.699997</td>\n",
              "      <td>155.000000</td>\n",
              "      <td>153.050003</td>\n",
              "      <td>154.699997</td>\n",
              "      <td>25195197</td>\n",
              "    </tr>\n",
              "    <tr>\n",
              "      <th>3615</th>\n",
              "      <td>2024-08-29 00:00:00+00:00</td>\n",
              "      <td>152.970001</td>\n",
              "      <td>152.970001</td>\n",
              "      <td>153.559998</td>\n",
              "      <td>151.199997</td>\n",
              "      <td>153.210007</td>\n",
              "      <td>44452983</td>\n",
              "    </tr>\n",
              "    <tr>\n",
              "      <th>3616</th>\n",
              "      <td>2024-08-30 00:00:00+00:00</td>\n",
              "      <td>152.759995</td>\n",
              "      <td>152.759995</td>\n",
              "      <td>155.250000</td>\n",
              "      <td>152.470001</td>\n",
              "      <td>153.000000</td>\n",
              "      <td>55134023</td>\n",
              "    </tr>\n",
              "  </tbody>\n",
              "</table>\n",
              "</div>\n",
              "    <div class=\"colab-df-buttons\">\n",
              "\n",
              "  <div class=\"colab-df-container\">\n",
              "    <button class=\"colab-df-convert\" onclick=\"convertToInteractive('df-94253a31-aa96-49d1-ab13-52cf8a41d778')\"\n",
              "            title=\"Convert this dataframe to an interactive table.\"\n",
              "            style=\"display:none;\">\n",
              "\n",
              "  <svg xmlns=\"http://www.w3.org/2000/svg\" height=\"24px\" viewBox=\"0 -960 960 960\">\n",
              "    <path d=\"M120-120v-720h720v720H120Zm60-500h600v-160H180v160Zm220 220h160v-160H400v160Zm0 220h160v-160H400v160ZM180-400h160v-160H180v160Zm440 0h160v-160H620v160ZM180-180h160v-160H180v160Zm440 0h160v-160H620v160Z\"/>\n",
              "  </svg>\n",
              "    </button>\n",
              "\n",
              "  <style>\n",
              "    .colab-df-container {\n",
              "      display:flex;\n",
              "      gap: 12px;\n",
              "    }\n",
              "\n",
              "    .colab-df-convert {\n",
              "      background-color: #E8F0FE;\n",
              "      border: none;\n",
              "      border-radius: 50%;\n",
              "      cursor: pointer;\n",
              "      display: none;\n",
              "      fill: #1967D2;\n",
              "      height: 32px;\n",
              "      padding: 0 0 0 0;\n",
              "      width: 32px;\n",
              "    }\n",
              "\n",
              "    .colab-df-convert:hover {\n",
              "      background-color: #E2EBFA;\n",
              "      box-shadow: 0px 1px 2px rgba(60, 64, 67, 0.3), 0px 1px 3px 1px rgba(60, 64, 67, 0.15);\n",
              "      fill: #174EA6;\n",
              "    }\n",
              "\n",
              "    .colab-df-buttons div {\n",
              "      margin-bottom: 4px;\n",
              "    }\n",
              "\n",
              "    [theme=dark] .colab-df-convert {\n",
              "      background-color: #3B4455;\n",
              "      fill: #D2E3FC;\n",
              "    }\n",
              "\n",
              "    [theme=dark] .colab-df-convert:hover {\n",
              "      background-color: #434B5C;\n",
              "      box-shadow: 0px 1px 3px 1px rgba(0, 0, 0, 0.15);\n",
              "      filter: drop-shadow(0px 1px 2px rgba(0, 0, 0, 0.3));\n",
              "      fill: #FFFFFF;\n",
              "    }\n",
              "  </style>\n",
              "\n",
              "    <script>\n",
              "      const buttonEl =\n",
              "        document.querySelector('#df-94253a31-aa96-49d1-ab13-52cf8a41d778 button.colab-df-convert');\n",
              "      buttonEl.style.display =\n",
              "        google.colab.kernel.accessAllowed ? 'block' : 'none';\n",
              "\n",
              "      async function convertToInteractive(key) {\n",
              "        const element = document.querySelector('#df-94253a31-aa96-49d1-ab13-52cf8a41d778');\n",
              "        const dataTable =\n",
              "          await google.colab.kernel.invokeFunction('convertToInteractive',\n",
              "                                                    [key], {});\n",
              "        if (!dataTable) return;\n",
              "\n",
              "        const docLinkHtml = 'Like what you see? Visit the ' +\n",
              "          '<a target=\"_blank\" href=https://colab.research.google.com/notebooks/data_table.ipynb>data table notebook</a>'\n",
              "          + ' to learn more about interactive tables.';\n",
              "        element.innerHTML = '';\n",
              "        dataTable['output_type'] = 'display_data';\n",
              "        await google.colab.output.renderOutput(dataTable, element);\n",
              "        const docLink = document.createElement('div');\n",
              "        docLink.innerHTML = docLinkHtml;\n",
              "        element.appendChild(docLink);\n",
              "      }\n",
              "    </script>\n",
              "  </div>\n",
              "\n",
              "\n",
              "<div id=\"df-27bd87cc-53b0-4924-b517-23d6a03380e3\">\n",
              "  <button class=\"colab-df-quickchart\" onclick=\"quickchart('df-27bd87cc-53b0-4924-b517-23d6a03380e3')\"\n",
              "            title=\"Suggest charts\"\n",
              "            style=\"display:none;\">\n",
              "\n",
              "<svg xmlns=\"http://www.w3.org/2000/svg\" height=\"24px\"viewBox=\"0 0 24 24\"\n",
              "     width=\"24px\">\n",
              "    <g>\n",
              "        <path d=\"M19 3H5c-1.1 0-2 .9-2 2v14c0 1.1.9 2 2 2h14c1.1 0 2-.9 2-2V5c0-1.1-.9-2-2-2zM9 17H7v-7h2v7zm4 0h-2V7h2v10zm4 0h-2v-4h2v4z\"/>\n",
              "    </g>\n",
              "</svg>\n",
              "  </button>\n",
              "\n",
              "<style>\n",
              "  .colab-df-quickchart {\n",
              "      --bg-color: #E8F0FE;\n",
              "      --fill-color: #1967D2;\n",
              "      --hover-bg-color: #E2EBFA;\n",
              "      --hover-fill-color: #174EA6;\n",
              "      --disabled-fill-color: #AAA;\n",
              "      --disabled-bg-color: #DDD;\n",
              "  }\n",
              "\n",
              "  [theme=dark] .colab-df-quickchart {\n",
              "      --bg-color: #3B4455;\n",
              "      --fill-color: #D2E3FC;\n",
              "      --hover-bg-color: #434B5C;\n",
              "      --hover-fill-color: #FFFFFF;\n",
              "      --disabled-bg-color: #3B4455;\n",
              "      --disabled-fill-color: #666;\n",
              "  }\n",
              "\n",
              "  .colab-df-quickchart {\n",
              "    background-color: var(--bg-color);\n",
              "    border: none;\n",
              "    border-radius: 50%;\n",
              "    cursor: pointer;\n",
              "    display: none;\n",
              "    fill: var(--fill-color);\n",
              "    height: 32px;\n",
              "    padding: 0;\n",
              "    width: 32px;\n",
              "  }\n",
              "\n",
              "  .colab-df-quickchart:hover {\n",
              "    background-color: var(--hover-bg-color);\n",
              "    box-shadow: 0 1px 2px rgba(60, 64, 67, 0.3), 0 1px 3px 1px rgba(60, 64, 67, 0.15);\n",
              "    fill: var(--button-hover-fill-color);\n",
              "  }\n",
              "\n",
              "  .colab-df-quickchart-complete:disabled,\n",
              "  .colab-df-quickchart-complete:disabled:hover {\n",
              "    background-color: var(--disabled-bg-color);\n",
              "    fill: var(--disabled-fill-color);\n",
              "    box-shadow: none;\n",
              "  }\n",
              "\n",
              "  .colab-df-spinner {\n",
              "    border: 2px solid var(--fill-color);\n",
              "    border-color: transparent;\n",
              "    border-bottom-color: var(--fill-color);\n",
              "    animation:\n",
              "      spin 1s steps(1) infinite;\n",
              "  }\n",
              "\n",
              "  @keyframes spin {\n",
              "    0% {\n",
              "      border-color: transparent;\n",
              "      border-bottom-color: var(--fill-color);\n",
              "      border-left-color: var(--fill-color);\n",
              "    }\n",
              "    20% {\n",
              "      border-color: transparent;\n",
              "      border-left-color: var(--fill-color);\n",
              "      border-top-color: var(--fill-color);\n",
              "    }\n",
              "    30% {\n",
              "      border-color: transparent;\n",
              "      border-left-color: var(--fill-color);\n",
              "      border-top-color: var(--fill-color);\n",
              "      border-right-color: var(--fill-color);\n",
              "    }\n",
              "    40% {\n",
              "      border-color: transparent;\n",
              "      border-right-color: var(--fill-color);\n",
              "      border-top-color: var(--fill-color);\n",
              "    }\n",
              "    60% {\n",
              "      border-color: transparent;\n",
              "      border-right-color: var(--fill-color);\n",
              "    }\n",
              "    80% {\n",
              "      border-color: transparent;\n",
              "      border-right-color: var(--fill-color);\n",
              "      border-bottom-color: var(--fill-color);\n",
              "    }\n",
              "    90% {\n",
              "      border-color: transparent;\n",
              "      border-bottom-color: var(--fill-color);\n",
              "    }\n",
              "  }\n",
              "</style>\n",
              "\n",
              "  <script>\n",
              "    async function quickchart(key) {\n",
              "      const quickchartButtonEl =\n",
              "        document.querySelector('#' + key + ' button');\n",
              "      quickchartButtonEl.disabled = true;  // To prevent multiple clicks.\n",
              "      quickchartButtonEl.classList.add('colab-df-spinner');\n",
              "      try {\n",
              "        const charts = await google.colab.kernel.invokeFunction(\n",
              "            'suggestCharts', [key], {});\n",
              "      } catch (error) {\n",
              "        console.error('Error during call to suggestCharts:', error);\n",
              "      }\n",
              "      quickchartButtonEl.classList.remove('colab-df-spinner');\n",
              "      quickchartButtonEl.classList.add('colab-df-quickchart-complete');\n",
              "    }\n",
              "    (() => {\n",
              "      let quickchartButtonEl =\n",
              "        document.querySelector('#df-27bd87cc-53b0-4924-b517-23d6a03380e3 button');\n",
              "      quickchartButtonEl.style.display =\n",
              "        google.colab.kernel.accessAllowed ? 'block' : 'none';\n",
              "    })();\n",
              "  </script>\n",
              "</div>\n",
              "\n",
              "    </div>\n",
              "  </div>\n"
            ],
            "application/vnd.google.colaboratory.intrinsic+json": {
              "type": "dataframe",
              "summary": "{\n  \"name\": \"df\",\n  \"rows\": 5,\n  \"fields\": [\n    {\n      \"column\": [\n        \"Date\",\n        \"\"\n      ],\n      \"properties\": {\n        \"dtype\": \"date\",\n        \"min\": \"2024-08-26 00:00:00+00:00\",\n        \"max\": \"2024-08-30 00:00:00+00:00\",\n        \"num_unique_values\": 5,\n        \"samples\": [\n          \"2024-08-27 00:00:00+00:00\",\n          \"2024-08-30 00:00:00+00:00\",\n          \"2024-08-28 00:00:00+00:00\"\n        ],\n        \"semantic_type\": \"\",\n        \"description\": \"\"\n      }\n    },\n    {\n      \"column\": [\n        \"Adj Close\",\n        \"TATASTEEL.NS\"\n      ],\n      \"properties\": {\n        \"dtype\": \"number\",\n        \"std\": 1.2311292964137877,\n        \"min\": 152.75999450683594,\n        \"max\": 155.6999969482422,\n        \"num_unique_values\": 5,\n        \"samples\": [\n          154.6999969482422,\n          152.75999450683594,\n          153.6999969482422\n        ],\n        \"semantic_type\": \"\",\n        \"description\": \"\"\n      }\n    },\n    {\n      \"column\": [\n        \"Close\",\n        \"TATASTEEL.NS\"\n      ],\n      \"properties\": {\n        \"dtype\": \"number\",\n        \"std\": 1.2311292964137877,\n        \"min\": 152.75999450683594,\n        \"max\": 155.6999969482422,\n        \"num_unique_values\": 5,\n        \"samples\": [\n          154.6999969482422,\n          152.75999450683594,\n          153.6999969482422\n        ],\n        \"semantic_type\": \"\",\n        \"description\": \"\"\n      }\n    },\n    {\n      \"column\": [\n        \"High\",\n        \"TATASTEEL.NS\"\n      ],\n      \"properties\": {\n        \"dtype\": \"number\",\n        \"std\": 1.2001328870339134,\n        \"min\": 153.55999755859375,\n        \"max\": 156.5,\n        \"num_unique_values\": 5,\n        \"samples\": [\n          156.5,\n          155.25,\n          155.0\n        ],\n        \"semantic_type\": \"\",\n        \"description\": \"\"\n      }\n    },\n    {\n      \"column\": [\n        \"Low\",\n        \"TATASTEEL.NS\"\n      ],\n      \"properties\": {\n        \"dtype\": \"number\",\n        \"std\": 1.281926794149241,\n        \"min\": 151.1999969482422,\n        \"max\": 154.60000610351562,\n        \"num_unique_values\": 5,\n        \"samples\": [\n          154.60000610351562,\n          152.47000122070312,\n          153.0500030517578\n        ],\n        \"semantic_type\": \"\",\n        \"description\": \"\"\n      }\n    },\n    {\n      \"column\": [\n        \"Open\",\n        \"TATASTEEL.NS\"\n      ],\n      \"properties\": {\n        \"dtype\": \"number\",\n        \"std\": 1.15949482356022,\n        \"min\": 153.0,\n        \"max\": 155.8000030517578,\n        \"num_unique_values\": 5,\n        \"samples\": [\n          155.8000030517578,\n          153.0,\n          154.6999969482422\n        ],\n        \"semantic_type\": \"\",\n        \"description\": \"\"\n      }\n    },\n    {\n      \"column\": [\n        \"Volume\",\n        \"TATASTEEL.NS\"\n      ],\n      \"properties\": {\n        \"dtype\": \"number\",\n        \"std\": 13206339,\n        \"min\": 24523684,\n        \"max\": 55134023,\n        \"num_unique_values\": 5,\n        \"samples\": [\n          24523684,\n          55134023,\n          25195197\n        ],\n        \"semantic_type\": \"\",\n        \"description\": \"\"\n      }\n    }\n  ]\n}"
            }
          },
          "metadata": {},
          "execution_count": 3
        }
      ]
    },
    {
      "cell_type": "code",
      "source": [
        "# Convert the Pandas DataFrame to Spark DataFrame and drop columns 'Date' and 'Adj Close'\n",
        "df_spark = df_spark.drop('Date', 'Adj Close')\n",
        "df_spark.show()\n"
      ],
      "metadata": {
        "colab": {
          "base_uri": "https://localhost:8080/"
        },
        "id": "MxMsirrABluD",
        "outputId": "a476cb3c-9bf0-41ed-eba4-06acc39bcbc2"
      },
      "execution_count": null,
      "outputs": [
        {
          "output_type": "stream",
          "name": "stdout",
          "text": [
            "+-------------------+-----------------------------+-------------------------+------------------------+-----------------------+------------------------+--------------------------+\n",
            "|       ('Date', '')|('Adj Close', 'TATASTEEL.NS')|('Close', 'TATASTEEL.NS')|('High', 'TATASTEEL.NS')|('Low', 'TATASTEEL.NS')|('Open', 'TATASTEEL.NS')|('Volume', 'TATASTEEL.NS')|\n",
            "+-------------------+-----------------------------+-------------------------+------------------------+-----------------------+------------------------+--------------------------+\n",
            "|2010-01-04 00:00:00|           19.329816818237305|        60.37968444824219|      60.641685485839844|     58.774322509765625|       59.26021957397461|                  58460615|\n",
            "|2010-01-05 00:00:00|           19.798006057739258|        61.84213638305664|      62.385196685791016|     60.836997985839844|      60.836997985839844|                  81889733|\n",
            "|2010-01-06 00:00:00|            19.58297348022461|        61.17045593261719|      62.880619049072266|      60.68932342529297|      62.880619049072266|                  77150753|\n",
            "|2010-01-07 00:00:00|           19.819355010986328|         61.9088249206543|       62.19464874267578|      60.98467254638672|      61.441986083984375|                  80144960|\n",
            "|2010-01-08 00:00:00|           19.778179168701172|       61.780208587646484|      63.023529052734375|     61.060890197753906|      62.023155212402344|                  86063510|\n",
            "|2010-01-11 00:00:00|           19.779701232910156|       61.784969329833984|       62.48999786376953|       61.4705696105957|      61.927879333496094|                  69701832|\n",
            "|2010-01-12 00:00:00|           19.079713821411133|        59.59843826293945|       61.80878829956055|      59.43647384643555|        61.1180534362793|                  71713280|\n",
            "|2010-01-13 00:00:00|            19.49757194519043|       60.903690338134766|      61.146636962890625|      58.59330368041992|       58.59330368041992|                 108267579|\n",
            "|2010-01-14 00:00:00|           19.755300521850586|         61.7087516784668|       62.04220962524414|      61.12281799316406|       61.42769241333008|                  69719623|\n",
            "|2010-01-15 00:00:00|           19.677526473999023|        61.46580505371094|       62.01839065551758|      60.97514343261719|      61.927879333496094|                  45054843|\n",
            "|2010-01-18 00:00:00|           19.444196701049805|       60.736961364746094|       61.16569137573242|      60.09386444091797|       61.16569137573242|                  62440445|\n",
            "|2010-01-19 00:00:00|            19.44877052307129|       60.751251220703125|        61.5086784362793|     60.212955474853516|      60.594051361083984|                  52644632|\n",
            "|2010-01-20 00:00:00|           19.938308715820312|         62.2803955078125|       62.63290786743164|      60.78459548950195|       60.78459548950195|                  83223827|\n",
            "|2010-01-21 00:00:00|           19.764453887939453|       61.737335205078125|       62.83298110961914|     61.189510345458984|      61.880245208740234|                 114584655|\n",
            "|2010-01-22 00:00:00|           19.049209594726562|        59.50316619873047|        61.0799446105957|     58.783851623535156|        61.0799446105957|                  92159151|\n",
            "|2010-01-25 00:00:00|            18.60237693786621|        58.10740661621094|       59.61273193359375|      57.82158660888672|      59.069671630859375|                  55929884|\n",
            "|2010-01-27 00:00:00|           17.069717407226562|        53.31990432739258|       57.70725631713867|      52.71015548706055|       57.15467071533203|                 114462197|\n",
            "|2010-01-28 00:00:00|             17.8551082611084|        55.77320098876953|            56.154296875|     53.829620361328125|       53.92489242553711|                 132070852|\n",
            "|2010-01-29 00:00:00|           17.357948303222656|        54.22024154663086|       55.35399627685547|      52.56248092651367|       55.06817626953125|                 121650868|\n",
            "|2010-02-01 00:00:00|           17.685829162597656|        55.24443435668945|       55.71603775024414|      53.15793991088867|       53.35325241088867|                  72603684|\n",
            "+-------------------+-----------------------------+-------------------------+------------------------+-----------------------+------------------------+--------------------------+\n",
            "only showing top 20 rows\n",
            "\n"
          ]
        }
      ]
    },
    {
      "cell_type": "code",
      "source": [
        "plt.plot(df.Close)"
      ],
      "metadata": {
        "id": "Xm60EJTDB16s",
        "colab": {
          "base_uri": "https://localhost:8080/",
          "height": 447
        },
        "outputId": "12f861c0-abed-47d8-c906-3f3968e6b321"
      },
      "execution_count": null,
      "outputs": [
        {
          "output_type": "execute_result",
          "data": {
            "text/plain": [
              "[<matplotlib.lines.Line2D at 0x7b5e739f9330>]"
            ]
          },
          "metadata": {},
          "execution_count": 5
        },
        {
          "output_type": "display_data",
          "data": {
            "text/plain": [
              "<Figure size 640x480 with 1 Axes>"
            ],
            "image/png": "[encoded data removed]"
          },
          "metadata": {}
        }
      ]
    },
    {
      "cell_type": "code",
      "source": [
        "from pyspark.sql.window import Window\n",
        "from pyspark.sql import functions as F\n",
        "\n",
        "# Create a window specification for 100-day moving average\n",
        "window_spec_100 = Window.orderBy('Date').rowsBetween(-99, 0)\n",
        "\n",
        "# Calculate 100-day moving average for the 'Close' column\n",
        "df_spark = df_spark.withColumn('ma100', F.avg('Close').over(window_spec_100))\n",
        "df_spark.select('Close', 'ma100').show()\n"
      ],
      "metadata": {
        "colab": {
          "base_uri": "https://localhost:8080/",
          "height": 443
        },
        "id": "zTp91lGHC61U",
        "outputId": "abd5c321-6056-4aed-bc39-15bd4549d796"
      },
      "execution_count": null,
      "outputs": [
        {
          "output_type": "error",
          "ename": "AnalysisException",
          "evalue": "[UNRESOLVED_COLUMN.WITH_SUGGESTION] A column or function parameter with name `Close` cannot be resolved. Did you mean one of the following? [`('Date', '')`, `('Close', 'TATASTEEL.NS')`, `('Low', 'TATASTEEL.NS')`, `('Open', 'TATASTEEL.NS')`, `('Adj Close', 'TATASTEEL.NS')`].;\n'Project [('Date', '')#0, ('Adj Close', 'TATASTEEL.NS')#1, ('Close', 'TATASTEEL.NS')#2, ('High', 'TATASTEEL.NS')#3, ('Low', 'TATASTEEL.NS')#4, ('Open', 'TATASTEEL.NS')#5, ('Volume', 'TATASTEEL.NS')#6L, avg('Close) windowspecdefinition('Date ASC NULLS FIRST, specifiedwindowframe(RowFrame, -99, currentrow$())) AS ma100#80]\n+- LogicalRDD [('Date', '')#0, ('Adj Close', 'TATASTEEL.NS')#1, ('Close', 'TATASTEEL.NS')#2, ('High', 'TATASTEEL.NS')#3, ('Low', 'TATASTEEL.NS')#4, ('Open', 'TATASTEEL.NS')#5, ('Volume', 'TATASTEEL.NS')#6L], false\n",
          "traceback": [
            "\u001b[0;31m---------------------------------------------------------------------------\u001b[0m",
            "\u001b[0;31mAnalysisException\u001b[0m                         Traceback (most recent call last)",
            "\u001b[0;32m<ipython-input-6-2cf16bd824cc>\u001b[0m in \u001b[0;36m<cell line: 8>\u001b[0;34m()\u001b[0m\n\u001b[1;32m      6\u001b[0m \u001b[0;34m\u001b[0m\u001b[0m\n\u001b[1;32m      7\u001b[0m \u001b[0;31m# Calculate 100-day moving average for the 'Close' column\u001b[0m\u001b[0;34m\u001b[0m\u001b[0;34m\u001b[0m\u001b[0m\n\u001b[0;32m----> 8\u001b[0;31m \u001b[0mdf_spark\u001b[0m \u001b[0;34m=\u001b[0m \u001b[0mdf_spark\u001b[0m\u001b[0;34m.\u001b[0m\u001b[0mwithColumn\u001b[0m\u001b[0;34m(\u001b[0m\u001b[0;34m'ma100'\u001b[0m\u001b[0;34m,\u001b[0m \u001b[0mF\u001b[0m\u001b[0;34m.\u001b[0m\u001b[0mavg\u001b[0m\u001b[0;34m(\u001b[0m\u001b[0;34m'Close'\u001b[0m\u001b[0;34m)\u001b[0m\u001b[0;34m.\u001b[0m\u001b[0mover\u001b[0m\u001b[0;34m(\u001b[0m\u001b[0mwindow_spec_100\u001b[0m\u001b[0;34m)\u001b[0m\u001b[0;34m)\u001b[0m\u001b[0;34m\u001b[0m\u001b[0;34m\u001b[0m\u001b[0m\n\u001b[0m\u001b[1;32m      9\u001b[0m \u001b[0mdf_spark\u001b[0m\u001b[0;34m.\u001b[0m\u001b[0mselect\u001b[0m\u001b[0;34m(\u001b[0m\u001b[0;34m'Close'\u001b[0m\u001b[0;34m,\u001b[0m \u001b[0;34m'ma100'\u001b[0m\u001b[0;34m)\u001b[0m\u001b[0;34m.\u001b[0m\u001b[0mshow\u001b[0m\u001b[0;34m(\u001b[0m\u001b[0;34m)\u001b[0m\u001b[0;34m\u001b[0m\u001b[0;34m\u001b[0m\u001b[0m\n",
            "\u001b[0;32m/usr/local/lib/python3.10/dist-packages/pyspark/sql/dataframe.py\u001b[0m in \u001b[0;36mwithColumn\u001b[0;34m(self, colName, col)\u001b[0m\n\u001b[1;32m   5174\u001b[0m                 \u001b[0mmessage_parameters\u001b[0m\u001b[0;34m=\u001b[0m\u001b[0;34m{\u001b[0m\u001b[0;34m\"arg_name\"\u001b[0m\u001b[0;34m:\u001b[0m \u001b[0;34m\"col\"\u001b[0m\u001b[0;34m,\u001b[0m \u001b[0;34m\"arg_type\"\u001b[0m\u001b[0;34m:\u001b[0m \u001b[0mtype\u001b[0m\u001b[0;34m(\u001b[0m\u001b[0mcol\u001b[0m\u001b[0;34m)\u001b[0m\u001b[0;34m.\u001b[0m\u001b[0m__name__\u001b[0m\u001b[0;34m}\u001b[0m\u001b[0;34m,\u001b[0m\u001b[0;34m\u001b[0m\u001b[0;34m\u001b[0m\u001b[0m\n\u001b[1;32m   5175\u001b[0m             )\n\u001b[0;32m-> 5176\u001b[0;31m         \u001b[0;32mreturn\u001b[0m \u001b[0mDataFrame\u001b[0m\u001b[0;34m(\u001b[0m\u001b[0mself\u001b[0m\u001b[0;34m.\u001b[0m\u001b[0m_jdf\u001b[0m\u001b[0;34m.\u001b[0m\u001b[0mwithColumn\u001b[0m\u001b[0;34m(\u001b[0m\u001b[0mcolName\u001b[0m\u001b[0;34m,\u001b[0m \u001b[0mcol\u001b[0m\u001b[0;34m.\u001b[0m\u001b[0m_jc\u001b[0m\u001b[0;34m)\u001b[0m\u001b[0;34m,\u001b[0m \u001b[0mself\u001b[0m\u001b[0;34m.\u001b[0m\u001b[0msparkSession\u001b[0m\u001b[0;34m)\u001b[0m\u001b[0;34m\u001b[0m\u001b[0;34m\u001b[0m\u001b[0m\n\u001b[0m\u001b[1;32m   5177\u001b[0m \u001b[0;34m\u001b[0m\u001b[0m\n\u001b[1;32m   5178\u001b[0m     \u001b[0;32mdef\u001b[0m \u001b[0mwithColumnRenamed\u001b[0m\u001b[0;34m(\u001b[0m\u001b[0mself\u001b[0m\u001b[0;34m,\u001b[0m \u001b[0mexisting\u001b[0m\u001b[0;34m:\u001b[0m \u001b[0mstr\u001b[0m\u001b[0;34m,\u001b[0m \u001b[0mnew\u001b[0m\u001b[0;34m:\u001b[0m \u001b[0mstr\u001b[0m\u001b[0;34m)\u001b[0m \u001b[0;34m->\u001b[0m \u001b[0;34m\"DataFrame\"\u001b[0m\u001b[0;34m:\u001b[0m\u001b[0;34m\u001b[0m\u001b[0;34m\u001b[0m\u001b[0m\n",
            "\u001b[0;32m/usr/local/lib/python3.10/dist-packages/py4j/java_gateway.py\u001b[0m in \u001b[0;36m__call__\u001b[0;34m(self, *args)\u001b[0m\n\u001b[1;32m   1320\u001b[0m \u001b[0;34m\u001b[0m\u001b[0m\n\u001b[1;32m   1321\u001b[0m         \u001b[0manswer\u001b[0m \u001b[0;34m=\u001b[0m \u001b[0mself\u001b[0m\u001b[0;34m.\u001b[0m\u001b[0mgateway_client\u001b[0m\u001b[0;34m.\u001b[0m\u001b[0msend_command\u001b[0m\u001b[0;34m(\u001b[0m\u001b[0mcommand\u001b[0m\u001b[0;34m)\u001b[0m\u001b[0;34m\u001b[0m\u001b[0;34m\u001b[0m\u001b[0m\n\u001b[0;32m-> 1322\u001b[0;31m         return_value = get_return_value(\n\u001b[0m\u001b[1;32m   1323\u001b[0m             answer, self.gateway_client, self.target_id, self.name)\n\u001b[1;32m   1324\u001b[0m \u001b[0;34m\u001b[0m\u001b[0m\n",
            "\u001b[0;32m/usr/local/lib/python3.10/dist-packages/pyspark/errors/exceptions/captured.py\u001b[0m in \u001b[0;36mdeco\u001b[0;34m(*a, **kw)\u001b[0m\n\u001b[1;32m    183\u001b[0m                 \u001b[0;31m# Hide where the exception came from that shows a non-Pythonic\u001b[0m\u001b[0;34m\u001b[0m\u001b[0;34m\u001b[0m\u001b[0m\n\u001b[1;32m    184\u001b[0m                 \u001b[0;31m# JVM exception message.\u001b[0m\u001b[0;34m\u001b[0m\u001b[0;34m\u001b[0m\u001b[0m\n\u001b[0;32m--> 185\u001b[0;31m                 \u001b[0;32mraise\u001b[0m \u001b[0mconverted\u001b[0m \u001b[0;32mfrom\u001b[0m \u001b[0;32mNone\u001b[0m\u001b[0;34m\u001b[0m\u001b[0;34m\u001b[0m\u001b[0m\n\u001b[0m\u001b[1;32m    186\u001b[0m             \u001b[0;32melse\u001b[0m\u001b[0;34m:\u001b[0m\u001b[0;34m\u001b[0m\u001b[0;34m\u001b[0m\u001b[0m\n\u001b[1;32m    187\u001b[0m                 \u001b[0;32mraise\u001b[0m\u001b[0;34m\u001b[0m\u001b[0;34m\u001b[0m\u001b[0m\n",
            "\u001b[0;31mAnalysisException\u001b[0m: [UNRESOLVED_COLUMN.WITH_SUGGESTION] A column or function parameter with name `Close` cannot be resolved. Did you mean one of the following? [`('Date', '')`, `('Close', 'TATASTEEL.NS')`, `('Low', 'TATASTEEL.NS')`, `('Open', 'TATASTEEL.NS')`, `('Adj Close', 'TATASTEEL.NS')`].;\n'Project [('Date', '')#0, ('Adj Close', 'TATASTEEL.NS')#1, ('Close', 'TATASTEEL.NS')#2, ('High', 'TATASTEEL.NS')#3, ('Low', 'TATASTEEL.NS')#4, ('Open', 'TATASTEEL.NS')#5, ('Volume', 'TATASTEEL.NS')#6L, avg('Close) windowspecdefinition('Date ASC NULLS FIRST, specifiedwindowframe(RowFrame, -99, currentrow$())) AS ma100#80]\n+- LogicalRDD [('Date', '')#0, ('Adj Close', 'TATASTEEL.NS')#1, ('Close', 'TATASTEEL.NS')#2, ('High', 'TATASTEEL.NS')#3, ('Low', 'TATASTEEL.NS')#4, ('Open', 'TATASTEEL.NS')#5, ('Volume', 'TATASTEEL.NS')#6L], false\n"
          ]
        }
      ]
    },
    {
      "cell_type": "code",
      "source": [
        "plt.figure(figsize = (12,6))\n",
        "plt.plot(df. Close)\n",
        "plt.plot(ma100, 'r')"
      ],
      "metadata": {
        "colab": {
          "base_uri": "https://localhost:8080/"
        },
        "id": "UVAaEI8zhdIO",
        "outputId": "e7994fbc-4fac-4e8c-e43a-27a1f57df43c"
      },
      "execution_count": null,
      "outputs": [
        {
          "output_type": "error",
          "ename": "NameError",
          "evalue": "name 'ma100' is not defined",
          "traceback": [
            "\u001b[0;31m---------------------------------------------------------------------------\u001b[0m",
            "\u001b[0;31mNameError\u001b[0m                                 Traceback (most recent call last)",
            "\u001b[0;32m<ipython-input-7-580e46611291>\u001b[0m in \u001b[0;36m<cell line: 3>\u001b[0;34m()\u001b[0m\n\u001b[1;32m      1\u001b[0m \u001b[0mplt\u001b[0m\u001b[0;34m.\u001b[0m\u001b[0mfigure\u001b[0m\u001b[0;34m(\u001b[0m\u001b[0mfigsize\u001b[0m \u001b[0;34m=\u001b[0m \u001b[0;34m(\u001b[0m\u001b[0;36m12\u001b[0m\u001b[0;34m,\u001b[0m\u001b[0;36m6\u001b[0m\u001b[0;34m)\u001b[0m\u001b[0;34m)\u001b[0m\u001b[0;34m\u001b[0m\u001b[0;34m\u001b[0m\u001b[0m\n\u001b[1;32m      2\u001b[0m \u001b[0mplt\u001b[0m\u001b[0;34m.\u001b[0m\u001b[0mplot\u001b[0m\u001b[0;34m(\u001b[0m\u001b[0mdf\u001b[0m\u001b[0;34m.\u001b[0m \u001b[0mClose\u001b[0m\u001b[0;34m)\u001b[0m\u001b[0;34m\u001b[0m\u001b[0;34m\u001b[0m\u001b[0m\n\u001b[0;32m----> 3\u001b[0;31m \u001b[0mplt\u001b[0m\u001b[0;34m.\u001b[0m\u001b[0mplot\u001b[0m\u001b[0;34m(\u001b[0m\u001b[0mma100\u001b[0m\u001b[0;34m,\u001b[0m \u001b[0;34m'r'\u001b[0m\u001b[0;34m)\u001b[0m\u001b[0;34m\u001b[0m\u001b[0;34m\u001b[0m\u001b[0m\n\u001b[0m",
            "\u001b[0;31mNameError\u001b[0m: name 'ma100' is not defined"
          ]
        },
        {
          "output_type": "display_data",
          "data": {
            "text/plain": [
              "<Figure size 1200x600 with 1 Axes>"
            ],
            "image/png": "[encoded data removed]"
          },
          "metadata": {}
        }
      ]
    },
    {
      "cell_type": "code",
      "source": [
        "# Create a window specification for 200-day moving average\n",
        "window_spec_200 = Window.orderBy('Date').rowsBetween(-199, 0)\n",
        "\n",
        "# Calculate 200-day moving average for the 'Close' column\n",
        "df_spark = df_spark.withColumn('ma200', F.avg('Close').over(window_spec_200))\n",
        "df_spark.select('Close', 'ma100', 'ma200').show()\n"
      ],
      "metadata": {
        "colab": {
          "base_uri": "https://localhost:8080/",
          "height": 458
        },
        "id": "yO0h_JAzid95",
        "outputId": "4bdadec6-ca05-4dcb-c178-2b09cd6035db"
      },
      "execution_count": null,
      "outputs": [
        {
          "output_type": "execute_result",
          "data": {
            "text/plain": [
              "0             NaN\n",
              "1             NaN\n",
              "2             NaN\n",
              "3             NaN\n",
              "4             NaN\n",
              "          ...    \n",
              "3612    150.94955\n",
              "3613    151.12930\n",
              "3614    151.31480\n",
              "3615    151.48915\n",
              "3616    151.66645\n",
              "Name: Close, Length: 3617, dtype: float64"
            ],
            "text/html": [
              "<div>\n",
              "<style scoped>\n",
              "    .dataframe tbody tr th:only-of-type {\n",
              "        vertical-align: middle;\n",
              "    }\n",
              "\n",
              "    .dataframe tbody tr th {\n",
              "        vertical-align: top;\n",
              "    }\n",
              "\n",
              "    .dataframe thead th {\n",
              "        text-align: right;\n",
              "    }\n",
              "</style>\n",
              "<table border=\"1\" class=\"dataframe\">\n",
              "  <thead>\n",
              "    <tr style=\"text-align: right;\">\n",
              "      <th></th>\n",
              "      <th>Close</th>\n",
              "    </tr>\n",
              "  </thead>\n",
              "  <tbody>\n",
              "    <tr>\n",
              "      <th>0</th>\n",
              "      <td>NaN</td>\n",
              "    </tr>\n",
              "    <tr>\n",
              "      <th>1</th>\n",
              "      <td>NaN</td>\n",
              "    </tr>\n",
              "    <tr>\n",
              "      <th>2</th>\n",
              "      <td>NaN</td>\n",
              "    </tr>\n",
              "    <tr>\n",
              "      <th>3</th>\n",
              "      <td>NaN</td>\n",
              "    </tr>\n",
              "    <tr>\n",
              "      <th>4</th>\n",
              "      <td>NaN</td>\n",
              "    </tr>\n",
              "    <tr>\n",
              "      <th>...</th>\n",
              "      <td>...</td>\n",
              "    </tr>\n",
              "    <tr>\n",
              "      <th>3612</th>\n",
              "      <td>150.94955</td>\n",
              "    </tr>\n",
              "    <tr>\n",
              "      <th>3613</th>\n",
              "      <td>151.12930</td>\n",
              "    </tr>\n",
              "    <tr>\n",
              "      <th>3614</th>\n",
              "      <td>151.31480</td>\n",
              "    </tr>\n",
              "    <tr>\n",
              "      <th>3615</th>\n",
              "      <td>151.48915</td>\n",
              "    </tr>\n",
              "    <tr>\n",
              "      <th>3616</th>\n",
              "      <td>151.66645</td>\n",
              "    </tr>\n",
              "  </tbody>\n",
              "</table>\n",
              "<p>3617 rows × 1 columns</p>\n",
              "</div><br><label><b>dtype:</b> float64</label>"
            ]
          },
          "metadata": {},
          "execution_count": 35
        }
      ]
    },
    {
      "cell_type": "code",
      "source": [
        "plt.figure(figsize = (12,6))\n",
        "plt.plot(df. Close)\n",
        "plt.plot(ma100, 'r')\n",
        "plt.plot(ma200, 'g')"
      ],
      "metadata": {
        "colab": {
          "base_uri": "https://localhost:8080/",
          "height": 539
        },
        "id": "b3gZVpxeieMy",
        "outputId": "88a31640-7d5a-481e-bb47-e4c9e6ec5a30"
      },
      "execution_count": null,
      "outputs": [
        {
          "output_type": "execute_result",
          "data": {
            "text/plain": [
              "[<matplotlib.lines.Line2D at 0x7e7ba2353370>]"
            ]
          },
          "metadata": {},
          "execution_count": 36
        },
        {
          "output_type": "display_data",
          "data": {
            "text/plain": [
              "<Figure size 1200x600 with 1 Axes>"
            ],
            "image/png": "[encoded data removed]"
          },
          "metadata": {}
        }
      ]
    },
    {
      "cell_type": "code",
      "source": [
        "\n",
        "# Splitting the data into training (78%) and testing (30%) using PySpark\n",
        "data_training = df_spark.limit(int(df_spark.count() * 0.78))\n",
        "data_testing = df_spark.subtract(data_training)\n",
        "\n",
        "# Display the sizes of the training and testing sets\n",
        "print(f\"Training Data Count: {data_training.count()}\")\n",
        "print(f\"Testing Data Count: {data_testing.count()}\")\n"
      ],
      "metadata": {
        "colab": {
          "base_uri": "https://localhost:8080/"
        },
        "id": "FYOZPuyajuTV",
        "outputId": "79a080cd-b2a5-434e-c229-46fdd7605e6a"
      },
      "execution_count": null,
      "outputs": [
        {
          "output_type": "stream",
          "name": "stdout",
          "text": [
            "(2821, 1)\n",
            "(1086, 1)\n"
          ]
        }
      ]
    },
    {
      "cell_type": "code",
      "source": [
        "from pyspark.ml.feature import MinMaxScaler\n",
        "from pyspark.ml.linalg import Vectors\n",
        "\n",
        "# Convert 'Close' column into feature vector for PySpark MinMaxScaler\n",
        "df_training = data_training.select('Close').rdd.map(lambda row: Vectors.dense(row['Close'])).toDF(['features'])\n",
        "\n",
        "# Initialize MinMaxScaler\n",
        "scaler = MinMaxScaler(inputCol=\"features\", outputCol=\"scaled_features\")\n",
        "scaler_model = scaler.fit(df_training)\n",
        "\n",
        "# Transform the training data\n",
        "scaled_training = scaler_model.transform(df_training)\n",
        "scaled_training.show()\n"
      ],
      "metadata": {
        "colab": {
          "base_uri": "https://localhost:8080/"
        },
        "id": "FY9fBoP1lC-S",
        "outputId": "28071e82-4ab8-4495-b00e-3931009d5abc"
      },
      "execution_count": null,
      "outputs": [
        {
          "output_type": "execute_result",
          "data": {
            "text/plain": [
              "array([[0.397042  ],\n",
              "       [0.41103649],\n",
              "       [0.40460905],\n",
              "       ...,\n",
              "       [0.8824903 ],\n",
              "       [0.87282539],\n",
              "       [0.88569597]])"
            ]
          },
          "metadata": {},
          "execution_count": 38
        }
      ]
    },
    {
      "cell_type": "code",
      "source": [
        "from pyspark.sql import Row\n",
        "\n",
        "# Collect scaled data as a list of Rows\n",
        "scaled_data_list = scaled_training.select('scaled_features').rdd.flatMap(lambda row: row).collect()\n",
        "\n",
        "# Prepare x_train and y_train\n",
        "x_train = []\n",
        "y_train = []\n",
        "\n",
        "for i in range(100, len(scaled_data_list)):\n",
        "    x_train.append(scaled_data_list[i-100:i])\n",
        "    y_train.append(scaled_data_list[i])\n",
        "\n",
        "# Convert lists to PySpark DataFrames if needed for further Spark-based processing\n",
        "x_train_df = spark.createDataFrame([Row(x=x) for x in x_train])\n",
        "y_train_df = spark.createDataFrame([Row(y=y) for y in y_train])\n",
        "\n"
      ],
      "metadata": {
        "id": "oVq6dPoRlELC"
      },
      "execution_count": null,
      "outputs": []
    },
    {
      "cell_type": "code",
      "source": [
        "from keras.layers import Dense, Dropout, LSTM\n",
        "from keras.models import Sequential"
      ],
      "metadata": {
        "id": "_E7acpfNxeKA"
      },
      "execution_count": null,
      "outputs": []
    },
    {
      "cell_type": "code",
      "source": [
        "model=Sequential()\n",
        "model.add(LSTM(units = 50, activation = 'relu', return_sequences = True,input_shape=(x_train.shape[1], 1)))\n",
        "model.add(Dropout (0.2))\n",
        "model.add(LSTM(units = 60, activation = 'relu', return_sequences = True))\n",
        "model.add(Dropout (0.3))\n",
        "model.add(LSTM(units = 80, activation = 'relu', return_sequences = True))\n",
        "model.add(Dropout (0.4))\n",
        "model.add(LSTM(units = 120, activation = 'relu'))\n",
        "model.add (Dropout (0.5))\n",
        "\n",
        "model.add(Dense(units=1)) # only 1 unit in dense bcuz be have to predict only i value(closing price)\n"
      ],
      "metadata": {
        "colab": {
          "base_uri": "https://localhost:8080/"
        },
        "id": "lmudW5d1yREj",
        "outputId": "18573679-218f-4bce-fd59-2b1e88707ea1"
      },
      "execution_count": null,
      "outputs": [
        {
          "output_type": "stream",
          "name": "stderr",
          "text": [
            "/usr/local/lib/python3.10/dist-packages/keras/src/layers/rnn/rnn.py:204: UserWarning: Do not pass an `input_shape`/`input_dim` argument to a layer. When using Sequential models, prefer using an `Input(shape)` object as the first layer in the model instead.\n",
            "  super().__init__(**kwargs)\n"
          ]
        }
      ]
    },
    {
      "cell_type": "code",
      "source": [
        "model.summary()"
      ],
      "metadata": {
        "colab": {
          "base_uri": "https://localhost:8080/",
          "height": 442
        },
        "id": "KN6C26A_zeLy",
        "outputId": "0d71900f-8f85-4fdf-e4a6-4f7ca44f45d1"
      },
      "execution_count": null,
      "outputs": [
        {
          "output_type": "display_data",
          "data": {
            "text/plain": [
              "\u001b[1mModel: \"sequential_2\"\u001b[0m\n"
            ],
            "text/html": [
              "<pre style=\"white-space:pre;overflow-x:auto;line-height:normal;font-family:Menlo,'DejaVu Sans Mono',consolas,'Courier New',monospace\"><span style=\"font-weight: bold\">Model: \"sequential_2\"</span>\n",
              "</pre>\n"
            ]
          },
          "metadata": {}
        },
        {
          "output_type": "display_data",
          "data": {
            "text/plain": [
              "┏━━━━━━━━━━━━━━━━━━━━━━━━━━━━━━━━━━━━━━┳━━━━━━━━━━━━━━━━━━━━━━━━━━━━━┳━━━━━━━━━━━━━━━━━┓\n",
              "┃\u001b[1m \u001b[0m\u001b[1mLayer (type)                        \u001b[0m\u001b[1m \u001b[0m┃\u001b[1m \u001b[0m\u001b[1mOutput Shape               \u001b[0m\u001b[1m \u001b[0m┃\u001b[1m \u001b[0m\u001b[1m        Param #\u001b[0m\u001b[1m \u001b[0m┃\n",
              "┡━━━━━━━━━━━━━━━━━━━━━━━━━━━━━━━━━━━━━━╇━━━━━━━━━━━━━━━━━━━━━━━━━━━━━╇━━━━━━━━━━━━━━━━━┩\n",
              "│ lstm_8 (\u001b[38;5;33mLSTM\u001b[0m)                        │ (\u001b[38;5;45mNone\u001b[0m, \u001b[38;5;34m100\u001b[0m, \u001b[38;5;34m50\u001b[0m)             │          \u001b[38;5;34m10,400\u001b[0m │\n",
              "├──────────────────────────────────────┼─────────────────────────────┼─────────────────┤\n",
              "│ dropout_8 (\u001b[38;5;33mDropout\u001b[0m)                  │ (\u001b[38;5;45mNone\u001b[0m, \u001b[38;5;34m100\u001b[0m, \u001b[38;5;34m50\u001b[0m)             │               \u001b[38;5;34m0\u001b[0m │\n",
              "├──────────────────────────────────────┼─────────────────────────────┼─────────────────┤\n",
              "│ lstm_9 (\u001b[38;5;33mLSTM\u001b[0m)                        │ (\u001b[38;5;45mNone\u001b[0m, \u001b[38;5;34m100\u001b[0m, \u001b[38;5;34m60\u001b[0m)             │          \u001b[38;5;34m26,640\u001b[0m │\n",
              "├──────────────────────────────────────┼─────────────────────────────┼─────────────────┤\n",
              "│ dropout_9 (\u001b[38;5;33mDropout\u001b[0m)                  │ (\u001b[38;5;45mNone\u001b[0m, \u001b[38;5;34m100\u001b[0m, \u001b[38;5;34m60\u001b[0m)             │               \u001b[38;5;34m0\u001b[0m │\n",
              "├──────────────────────────────────────┼─────────────────────────────┼─────────────────┤\n",
              "│ lstm_10 (\u001b[38;5;33mLSTM\u001b[0m)                       │ (\u001b[38;5;45mNone\u001b[0m, \u001b[38;5;34m100\u001b[0m, \u001b[38;5;34m80\u001b[0m)             │          \u001b[38;5;34m45,120\u001b[0m │\n",
              "├──────────────────────────────────────┼─────────────────────────────┼─────────────────┤\n",
              "│ dropout_10 (\u001b[38;5;33mDropout\u001b[0m)                 │ (\u001b[38;5;45mNone\u001b[0m, \u001b[38;5;34m100\u001b[0m, \u001b[38;5;34m80\u001b[0m)             │               \u001b[38;5;34m0\u001b[0m │\n",
              "├──────────────────────────────────────┼─────────────────────────────┼─────────────────┤\n",
              "│ lstm_11 (\u001b[38;5;33mLSTM\u001b[0m)                       │ (\u001b[38;5;45mNone\u001b[0m, \u001b[38;5;34m120\u001b[0m)                 │          \u001b[38;5;34m96,480\u001b[0m │\n",
              "├──────────────────────────────────────┼─────────────────────────────┼─────────────────┤\n",
              "│ dropout_11 (\u001b[38;5;33mDropout\u001b[0m)                 │ (\u001b[38;5;45mNone\u001b[0m, \u001b[38;5;34m120\u001b[0m)                 │               \u001b[38;5;34m0\u001b[0m │\n",
              "├──────────────────────────────────────┼─────────────────────────────┼─────────────────┤\n",
              "│ dense_2 (\u001b[38;5;33mDense\u001b[0m)                      │ (\u001b[38;5;45mNone\u001b[0m, \u001b[38;5;34m1\u001b[0m)                   │             \u001b[38;5;34m121\u001b[0m │\n",
              "└──────────────────────────────────────┴─────────────────────────────┴─────────────────┘\n"
            ],
            "text/html": [
              "<pre style=\"white-space:pre;overflow-x:auto;line-height:normal;font-family:Menlo,'DejaVu Sans Mono',consolas,'Courier New',monospace\">┏━━━━━━━━━━━━━━━━━━━━━━━━━━━━━━━━━━━━━━┳━━━━━━━━━━━━━━━━━━━━━━━━━━━━━┳━━━━━━━━━━━━━━━━━┓\n",
              "┃<span style=\"font-weight: bold\"> Layer (type)                         </span>┃<span style=\"font-weight: bold\"> Output Shape                </span>┃<span style=\"font-weight: bold\">         Param # </span>┃\n",
              "┡━━━━━━━━━━━━━━━━━━━━━━━━━━━━━━━━━━━━━━╇━━━━━━━━━━━━━━━━━━━━━━━━━━━━━╇━━━━━━━━━━━━━━━━━┩\n",
              "│ lstm_8 (<span style=\"color: #0087ff; text-decoration-color: #0087ff\">LSTM</span>)                        │ (<span style=\"color: #00d7ff; text-decoration-color: #00d7ff\">None</span>, <span style=\"color: #00af00; text-decoration-color: #00af00\">100</span>, <span style=\"color: #00af00; text-decoration-color: #00af00\">50</span>)             │          <span style=\"color: #00af00; text-decoration-color: #00af00\">10,400</span> │\n",
              "├──────────────────────────────────────┼─────────────────────────────┼─────────────────┤\n",
              "│ dropout_8 (<span style=\"color: #0087ff; text-decoration-color: #0087ff\">Dropout</span>)                  │ (<span style=\"color: #00d7ff; text-decoration-color: #00d7ff\">None</span>, <span style=\"color: #00af00; text-decoration-color: #00af00\">100</span>, <span style=\"color: #00af00; text-decoration-color: #00af00\">50</span>)             │               <span style=\"color: #00af00; text-decoration-color: #00af00\">0</span> │\n",
              "├──────────────────────────────────────┼─────────────────────────────┼─────────────────┤\n",
              "│ lstm_9 (<span style=\"color: #0087ff; text-decoration-color: #0087ff\">LSTM</span>)                        │ (<span style=\"color: #00d7ff; text-decoration-color: #00d7ff\">None</span>, <span style=\"color: #00af00; text-decoration-color: #00af00\">100</span>, <span style=\"color: #00af00; text-decoration-color: #00af00\">60</span>)             │          <span style=\"color: #00af00; text-decoration-color: #00af00\">26,640</span> │\n",
              "├──────────────────────────────────────┼─────────────────────────────┼─────────────────┤\n",
              "│ dropout_9 (<span style=\"color: #0087ff; text-decoration-color: #0087ff\">Dropout</span>)                  │ (<span style=\"color: #00d7ff; text-decoration-color: #00d7ff\">None</span>, <span style=\"color: #00af00; text-decoration-color: #00af00\">100</span>, <span style=\"color: #00af00; text-decoration-color: #00af00\">60</span>)             │               <span style=\"color: #00af00; text-decoration-color: #00af00\">0</span> │\n",
              "├──────────────────────────────────────┼─────────────────────────────┼─────────────────┤\n",
              "│ lstm_10 (<span style=\"color: #0087ff; text-decoration-color: #0087ff\">LSTM</span>)                       │ (<span style=\"color: #00d7ff; text-decoration-color: #00d7ff\">None</span>, <span style=\"color: #00af00; text-decoration-color: #00af00\">100</span>, <span style=\"color: #00af00; text-decoration-color: #00af00\">80</span>)             │          <span style=\"color: #00af00; text-decoration-color: #00af00\">45,120</span> │\n",
              "├──────────────────────────────────────┼─────────────────────────────┼─────────────────┤\n",
              "│ dropout_10 (<span style=\"color: #0087ff; text-decoration-color: #0087ff\">Dropout</span>)                 │ (<span style=\"color: #00d7ff; text-decoration-color: #00d7ff\">None</span>, <span style=\"color: #00af00; text-decoration-color: #00af00\">100</span>, <span style=\"color: #00af00; text-decoration-color: #00af00\">80</span>)             │               <span style=\"color: #00af00; text-decoration-color: #00af00\">0</span> │\n",
              "├──────────────────────────────────────┼─────────────────────────────┼─────────────────┤\n",
              "│ lstm_11 (<span style=\"color: #0087ff; text-decoration-color: #0087ff\">LSTM</span>)                       │ (<span style=\"color: #00d7ff; text-decoration-color: #00d7ff\">None</span>, <span style=\"color: #00af00; text-decoration-color: #00af00\">120</span>)                 │          <span style=\"color: #00af00; text-decoration-color: #00af00\">96,480</span> │\n",
              "├──────────────────────────────────────┼─────────────────────────────┼─────────────────┤\n",
              "│ dropout_11 (<span style=\"color: #0087ff; text-decoration-color: #0087ff\">Dropout</span>)                 │ (<span style=\"color: #00d7ff; text-decoration-color: #00d7ff\">None</span>, <span style=\"color: #00af00; text-decoration-color: #00af00\">120</span>)                 │               <span style=\"color: #00af00; text-decoration-color: #00af00\">0</span> │\n",
              "├──────────────────────────────────────┼─────────────────────────────┼─────────────────┤\n",
              "│ dense_2 (<span style=\"color: #0087ff; text-decoration-color: #0087ff\">Dense</span>)                      │ (<span style=\"color: #00d7ff; text-decoration-color: #00d7ff\">None</span>, <span style=\"color: #00af00; text-decoration-color: #00af00\">1</span>)                   │             <span style=\"color: #00af00; text-decoration-color: #00af00\">121</span> │\n",
              "└──────────────────────────────────────┴─────────────────────────────┴─────────────────┘\n",
              "</pre>\n"
            ]
          },
          "metadata": {}
        },
        {
          "output_type": "display_data",
          "data": {
            "text/plain": [
              "\u001b[1m Total params: \u001b[0m\u001b[38;5;34m178,761\u001b[0m (698.29 KB)\n"
            ],
            "text/html": [
              "<pre style=\"white-space:pre;overflow-x:auto;line-height:normal;font-family:Menlo,'DejaVu Sans Mono',consolas,'Courier New',monospace\"><span style=\"font-weight: bold\"> Total params: </span><span style=\"color: #00af00; text-decoration-color: #00af00\">178,761</span> (698.29 KB)\n",
              "</pre>\n"
            ]
          },
          "metadata": {}
        },
        {
          "output_type": "display_data",
          "data": {
            "text/plain": [
              "\u001b[1m Trainable params: \u001b[0m\u001b[38;5;34m178,761\u001b[0m (698.29 KB)\n"
            ],
            "text/html": [
              "<pre style=\"white-space:pre;overflow-x:auto;line-height:normal;font-family:Menlo,'DejaVu Sans Mono',consolas,'Courier New',monospace\"><span style=\"font-weight: bold\"> Trainable params: </span><span style=\"color: #00af00; text-decoration-color: #00af00\">178,761</span> (698.29 KB)\n",
              "</pre>\n"
            ]
          },
          "metadata": {}
        },
        {
          "output_type": "display_data",
          "data": {
            "text/plain": [
              "\u001b[1m Non-trainable params: \u001b[0m\u001b[38;5;34m0\u001b[0m (0.00 B)\n"
            ],
            "text/html": [
              "<pre style=\"white-space:pre;overflow-x:auto;line-height:normal;font-family:Menlo,'DejaVu Sans Mono',consolas,'Courier New',monospace\"><span style=\"font-weight: bold\"> Non-trainable params: </span><span style=\"color: #00af00; text-decoration-color: #00af00\">0</span> (0.00 B)\n",
              "</pre>\n"
            ]
          },
          "metadata": {}
        }
      ]
    },
    {
      "cell_type": "code",
      "source": [
        "model.compile(optimizer='adam', loss = 'mean_squared_error')\n",
        "model.fit(x_train, y_train, epochs = 30)"
      ],
      "metadata": {
        "colab": {
          "base_uri": "https://localhost:8080/"
        },
        "id": "2xv84S6azfJr",
        "outputId": "e6a3dd9d-6bb8-4d54-824e-94f5f53f9915"
      },
      "execution_count": null,
      "outputs": [
        {
          "output_type": "stream",
          "name": "stdout",
          "text": [
            "Epoch 1/30\n",
            "\u001b[1m86/86\u001b[0m \u001b[32m━━━━━━━━━━━━━━━━━━━━\u001b[0m\u001b[37m\u001b[0m \u001b[1m33s\u001b[0m 309ms/step - loss: 0.0016\n",
            "Epoch 2/30\n",
            "\u001b[1m86/86\u001b[0m \u001b[32m━━━━━━━━━━━━━━━━━━━━\u001b[0m\u001b[37m\u001b[0m \u001b[1m26s\u001b[0m 308ms/step - loss: 0.0012\n",
            "Epoch 3/30\n",
            "\u001b[1m86/86\u001b[0m \u001b[32m━━━━━━━━━━━━━━━━━━━━\u001b[0m\u001b[37m\u001b[0m \u001b[1m41s\u001b[0m 306ms/step - loss: 0.0012\n",
            "Epoch 4/30\n",
            "\u001b[1m86/86\u001b[0m \u001b[32m━━━━━━━━━━━━━━━━━━━━\u001b[0m\u001b[37m\u001b[0m \u001b[1m41s\u001b[0m 308ms/step - loss: 0.0013\n",
            "Epoch 5/30\n",
            "\u001b[1m86/86\u001b[0m \u001b[32m━━━━━━━━━━━━━━━━━━━━\u001b[0m\u001b[37m\u001b[0m \u001b[1m26s\u001b[0m 307ms/step - loss: 0.0016\n",
            "Epoch 6/30\n",
            "\u001b[1m86/86\u001b[0m \u001b[32m━━━━━━━━━━━━━━━━━━━━\u001b[0m\u001b[37m\u001b[0m \u001b[1m25s\u001b[0m 294ms/step - loss: 0.0012\n",
            "Epoch 7/30\n",
            "\u001b[1m86/86\u001b[0m \u001b[32m━━━━━━━━━━━━━━━━━━━━\u001b[0m\u001b[37m\u001b[0m \u001b[1m42s\u001b[0m 309ms/step - loss: 0.0011\n",
            "Epoch 8/30\n",
            "\u001b[1m86/86\u001b[0m \u001b[32m━━━━━━━━━━━━━━━━━━━━\u001b[0m\u001b[37m\u001b[0m \u001b[1m26s\u001b[0m 306ms/step - loss: 0.0012\n",
            "Epoch 9/30\n",
            "\u001b[1m86/86\u001b[0m \u001b[32m━━━━━━━━━━━━━━━━━━━━\u001b[0m\u001b[37m\u001b[0m \u001b[1m41s\u001b[0m 305ms/step - loss: 0.0014\n",
            "Epoch 10/30\n",
            "\u001b[1m86/86\u001b[0m \u001b[32m━━━━━━━━━━━━━━━━━━━━\u001b[0m\u001b[37m\u001b[0m \u001b[1m41s\u001b[0m 307ms/step - loss: 0.0014\n",
            "Epoch 11/30\n",
            "\u001b[1m86/86\u001b[0m \u001b[32m━━━━━━━━━━━━━━━━━━━━\u001b[0m\u001b[37m\u001b[0m \u001b[1m41s\u001b[0m 306ms/step - loss: 0.0013\n",
            "Epoch 12/30\n",
            "\u001b[1m86/86\u001b[0m \u001b[32m━━━━━━━━━━━━━━━━━━━━\u001b[0m\u001b[37m\u001b[0m \u001b[1m41s\u001b[0m 310ms/step - loss: 0.0014\n",
            "Epoch 13/30\n",
            "\u001b[1m86/86\u001b[0m \u001b[32m━━━━━━━━━━━━━━━━━━━━\u001b[0m\u001b[37m\u001b[0m \u001b[1m27s\u001b[0m 309ms/step - loss: 0.0013\n",
            "Epoch 14/30\n",
            "\u001b[1m86/86\u001b[0m \u001b[32m━━━━━━━━━━━━━━━━━━━━\u001b[0m\u001b[37m\u001b[0m \u001b[1m41s\u001b[0m 308ms/step - loss: 0.0011\n",
            "Epoch 15/30\n",
            "\u001b[1m86/86\u001b[0m \u001b[32m━━━━━━━━━━━━━━━━━━━━\u001b[0m\u001b[37m\u001b[0m \u001b[1m41s\u001b[0m 313ms/step - loss: 0.0012\n",
            "Epoch 16/30\n",
            "\u001b[1m86/86\u001b[0m \u001b[32m━━━━━━━━━━━━━━━━━━━━\u001b[0m\u001b[37m\u001b[0m \u001b[1m41s\u001b[0m 308ms/step - loss: 0.0011\n",
            "Epoch 17/30\n",
            "\u001b[1m86/86\u001b[0m \u001b[32m━━━━━━━━━━━━━━━━━━━━\u001b[0m\u001b[37m\u001b[0m \u001b[1m40s\u001b[0m 298ms/step - loss: 0.0011\n",
            "Epoch 18/30\n",
            "\u001b[1m86/86\u001b[0m \u001b[32m━━━━━━━━━━━━━━━━━━━━\u001b[0m\u001b[37m\u001b[0m \u001b[1m41s\u001b[0m 302ms/step - loss: 0.0011\n",
            "Epoch 19/30\n",
            "\u001b[1m86/86\u001b[0m \u001b[32m━━━━━━━━━━━━━━━━━━━━\u001b[0m\u001b[37m\u001b[0m \u001b[1m26s\u001b[0m 308ms/step - loss: 0.0012\n",
            "Epoch 20/30\n",
            "\u001b[1m86/86\u001b[0m \u001b[32m━━━━━━━━━━━━━━━━━━━━\u001b[0m\u001b[37m\u001b[0m \u001b[1m41s\u001b[0m 309ms/step - loss: 9.8287e-04\n",
            "Epoch 21/30\n",
            "\u001b[1m86/86\u001b[0m \u001b[32m━━━━━━━━━━━━━━━━━━━━\u001b[0m\u001b[37m\u001b[0m \u001b[1m41s\u001b[0m 309ms/step - loss: 9.2350e-04\n",
            "Epoch 22/30\n",
            "\u001b[1m86/86\u001b[0m \u001b[32m━━━━━━━━━━━━━━━━━━━━\u001b[0m\u001b[37m\u001b[0m \u001b[1m26s\u001b[0m 305ms/step - loss: 9.9190e-04\n",
            "Epoch 23/30\n",
            "\u001b[1m86/86\u001b[0m \u001b[32m━━━━━━━━━━━━━━━━━━━━\u001b[0m\u001b[37m\u001b[0m \u001b[1m26s\u001b[0m 307ms/step - loss: 0.0013\n",
            "Epoch 24/30\n",
            "\u001b[1m86/86\u001b[0m \u001b[32m━━━━━━━━━━━━━━━━━━━━\u001b[0m\u001b[37m\u001b[0m \u001b[1m41s\u001b[0m 307ms/step - loss: 0.0011\n",
            "Epoch 25/30\n",
            "\u001b[1m86/86\u001b[0m \u001b[32m━━━━━━━━━━━━━━━━━━━━\u001b[0m\u001b[37m\u001b[0m \u001b[1m40s\u001b[0m 300ms/step - loss: 0.0012\n",
            "Epoch 26/30\n",
            "\u001b[1m86/86\u001b[0m \u001b[32m━━━━━━━━━━━━━━━━━━━━\u001b[0m\u001b[37m\u001b[0m \u001b[1m26s\u001b[0m 307ms/step - loss: 0.0012\n",
            "Epoch 27/30\n",
            "\u001b[1m86/86\u001b[0m \u001b[32m━━━━━━━━━━━━━━━━━━━━\u001b[0m\u001b[37m\u001b[0m \u001b[1m41s\u001b[0m 311ms/step - loss: 8.9481e-04\n",
            "Epoch 28/30\n",
            "\u001b[1m86/86\u001b[0m \u001b[32m━━━━━━━━━━━━━━━━━━━━\u001b[0m\u001b[37m\u001b[0m \u001b[1m26s\u001b[0m 305ms/step - loss: 0.0010\n",
            "Epoch 29/30\n",
            "\u001b[1m86/86\u001b[0m \u001b[32m━━━━━━━━━━━━━━━━━━━━\u001b[0m\u001b[37m\u001b[0m \u001b[1m41s\u001b[0m 304ms/step - loss: 0.0011\n",
            "Epoch 30/30\n",
            "\u001b[1m86/86\u001b[0m \u001b[32m━━━━━━━━━━━━━━━━━━━━\u001b[0m\u001b[37m\u001b[0m \u001b[1m41s\u001b[0m 308ms/step - loss: 0.0010\n"
          ]
        },
        {
          "output_type": "execute_result",
          "data": {
            "text/plain": [
              "<keras.src.callbacks.history.History at 0x7e7ba06dcfd0>"
            ]
          },
          "metadata": {},
          "execution_count": 73
        }
      ]
    },
    {
      "cell_type": "code",
      "source": [
        "model.save('keras_model.h5')"
      ],
      "metadata": {
        "colab": {
          "base_uri": "https://localhost:8080/"
        },
        "id": "GCy4NY1M7HV-",
        "outputId": "b7cf8d51-4b70-454f-a992-984e151d382f"
      },
      "execution_count": null,
      "outputs": [
        {
          "output_type": "stream",
          "name": "stderr",
          "text": [
            "WARNING:absl:You are saving your model as an HDF5 file via `model.save()` or `keras.saving.save_model(model)`. This file format is considered legacy. We recommend using instead the native Keras format, e.g. `model.save('my_model.keras')` or `keras.saving.save_model(model, 'my_model.keras')`. \n"
          ]
        }
      ]
    },
    {
      "cell_type": "code",
      "source": [
        "past_100_days=data_training.tail(100)"
      ],
      "metadata": {
        "id": "QdaDyODT7MJB"
      },
      "execution_count": null,
      "outputs": []
    },
    {
      "cell_type": "code",
      "source": [
        "final_df = pd.concat([past_100_days, data_testing], ignore_index=True)\n"
      ],
      "metadata": {
        "id": "vjrd-2KJ72UQ"
      },
      "execution_count": null,
      "outputs": []
    },
    {
      "cell_type": "code",
      "source": [
        "final_df.head() #this will be our testing data input"
      ],
      "metadata": {
        "colab": {
          "base_uri": "https://localhost:8080/",
          "height": 206
        },
        "id": "vUwRHh9m8Ytf",
        "outputId": "a099fb2d-db1c-49fe-c378-e696a79a15f0"
      },
      "execution_count": null,
      "outputs": [
        {
          "output_type": "execute_result",
          "data": {
            "text/plain": [
              "       Close\n",
              "0  70.915001\n",
              "1  70.635002\n",
              "2  70.589996\n",
              "3  66.669998\n",
              "4  68.110001"
            ],
            "text/html": [
              "\n",
              "  <div id=\"df-6e1211be-dee1-4cde-a0bb-77a200b18ed0\" class=\"colab-df-container\">\n",
              "    <div>\n",
              "<style scoped>\n",
              "    .dataframe tbody tr th:only-of-type {\n",
              "        vertical-align: middle;\n",
              "    }\n",
              "\n",
              "    .dataframe tbody tr th {\n",
              "        vertical-align: top;\n",
              "    }\n",
              "\n",
              "    .dataframe thead th {\n",
              "        text-align: right;\n",
              "    }\n",
              "</style>\n",
              "<table border=\"1\" class=\"dataframe\">\n",
              "  <thead>\n",
              "    <tr style=\"text-align: right;\">\n",
              "      <th></th>\n",
              "      <th>Close</th>\n",
              "    </tr>\n",
              "  </thead>\n",
              "  <tbody>\n",
              "    <tr>\n",
              "      <th>0</th>\n",
              "      <td>70.915001</td>\n",
              "    </tr>\n",
              "    <tr>\n",
              "      <th>1</th>\n",
              "      <td>70.635002</td>\n",
              "    </tr>\n",
              "    <tr>\n",
              "      <th>2</th>\n",
              "      <td>70.589996</td>\n",
              "    </tr>\n",
              "    <tr>\n",
              "      <th>3</th>\n",
              "      <td>66.669998</td>\n",
              "    </tr>\n",
              "    <tr>\n",
              "      <th>4</th>\n",
              "      <td>68.110001</td>\n",
              "    </tr>\n",
              "  </tbody>\n",
              "</table>\n",
              "</div>\n",
              "    <div class=\"colab-df-buttons\">\n",
              "\n",
              "  <div class=\"colab-df-container\">\n",
              "    <button class=\"colab-df-convert\" onclick=\"convertToInteractive('df-6e1211be-dee1-4cde-a0bb-77a200b18ed0')\"\n",
              "            title=\"Convert this dataframe to an interactive table.\"\n",
              "            style=\"display:none;\">\n",
              "\n",
              "  <svg xmlns=\"http://www.w3.org/2000/svg\" height=\"24px\" viewBox=\"0 -960 960 960\">\n",
              "    <path d=\"M120-120v-720h720v720H120Zm60-500h600v-160H180v160Zm220 220h160v-160H400v160Zm0 220h160v-160H400v160ZM180-400h160v-160H180v160Zm440 0h160v-160H620v160ZM180-180h160v-160H180v160Zm440 0h160v-160H620v160Z\"/>\n",
              "  </svg>\n",
              "    </button>\n",
              "\n",
              "  <style>\n",
              "    .colab-df-container {\n",
              "      display:flex;\n",
              "      gap: 12px;\n",
              "    }\n",
              "\n",
              "    .colab-df-convert {\n",
              "      background-color: #E8F0FE;\n",
              "      border: none;\n",
              "      border-radius: 50%;\n",
              "      cursor: pointer;\n",
              "      display: none;\n",
              "      fill: #1967D2;\n",
              "      height: 32px;\n",
              "      padding: 0 0 0 0;\n",
              "      width: 32px;\n",
              "    }\n",
              "\n",
              "    .colab-df-convert:hover {\n",
              "      background-color: #E2EBFA;\n",
              "      box-shadow: 0px 1px 2px rgba(60, 64, 67, 0.3), 0px 1px 3px 1px rgba(60, 64, 67, 0.15);\n",
              "      fill: #174EA6;\n",
              "    }\n",
              "\n",
              "    .colab-df-buttons div {\n",
              "      margin-bottom: 4px;\n",
              "    }\n",
              "\n",
              "    [theme=dark] .colab-df-convert {\n",
              "      background-color: #3B4455;\n",
              "      fill: #D2E3FC;\n",
              "    }\n",
              "\n",
              "    [theme=dark] .colab-df-convert:hover {\n",
              "      background-color: #434B5C;\n",
              "      box-shadow: 0px 1px 3px 1px rgba(0, 0, 0, 0.15);\n",
              "      filter: drop-shadow(0px 1px 2px rgba(0, 0, 0, 0.3));\n",
              "      fill: #FFFFFF;\n",
              "    }\n",
              "  </style>\n",
              "\n",
              "    <script>\n",
              "      const buttonEl =\n",
              "        document.querySelector('#df-6e1211be-dee1-4cde-a0bb-77a200b18ed0 button.colab-df-convert');\n",
              "      buttonEl.style.display =\n",
              "        google.colab.kernel.accessAllowed ? 'block' : 'none';\n",
              "\n",
              "      async function convertToInteractive(key) {\n",
              "        const element = document.querySelector('#df-6e1211be-dee1-4cde-a0bb-77a200b18ed0');\n",
              "        const dataTable =\n",
              "          await google.colab.kernel.invokeFunction('convertToInteractive',\n",
              "                                                    [key], {});\n",
              "        if (!dataTable) return;\n",
              "\n",
              "        const docLinkHtml = 'Like what you see? Visit the ' +\n",
              "          '<a target=\"_blank\" href=https://colab.research.google.com/notebooks/data_table.ipynb>data table notebook</a>'\n",
              "          + ' to learn more about interactive tables.';\n",
              "        element.innerHTML = '';\n",
              "        dataTable['output_type'] = 'display_data';\n",
              "        await google.colab.output.renderOutput(dataTable, element);\n",
              "        const docLink = document.createElement('div');\n",
              "        docLink.innerHTML = docLinkHtml;\n",
              "        element.appendChild(docLink);\n",
              "      }\n",
              "    </script>\n",
              "  </div>\n",
              "\n",
              "\n",
              "<div id=\"df-8eb0d56e-0cee-4779-8fd8-bca30c83323c\">\n",
              "  <button class=\"colab-df-quickchart\" onclick=\"quickchart('df-8eb0d56e-0cee-4779-8fd8-bca30c83323c')\"\n",
              "            title=\"Suggest charts\"\n",
              "            style=\"display:none;\">\n",
              "\n",
              "<svg xmlns=\"http://www.w3.org/2000/svg\" height=\"24px\"viewBox=\"0 0 24 24\"\n",
              "     width=\"24px\">\n",
              "    <g>\n",
              "        <path d=\"M19 3H5c-1.1 0-2 .9-2 2v14c0 1.1.9 2 2 2h14c1.1 0 2-.9 2-2V5c0-1.1-.9-2-2-2zM9 17H7v-7h2v7zm4 0h-2V7h2v10zm4 0h-2v-4h2v4z\"/>\n",
              "    </g>\n",
              "</svg>\n",
              "  </button>\n",
              "\n",
              "<style>\n",
              "  .colab-df-quickchart {\n",
              "      --bg-color: #E8F0FE;\n",
              "      --fill-color: #1967D2;\n",
              "      --hover-bg-color: #E2EBFA;\n",
              "      --hover-fill-color: #174EA6;\n",
              "      --disabled-fill-color: #AAA;\n",
              "      --disabled-bg-color: #DDD;\n",
              "  }\n",
              "\n",
              "  [theme=dark] .colab-df-quickchart {\n",
              "      --bg-color: #3B4455;\n",
              "      --fill-color: #D2E3FC;\n",
              "      --hover-bg-color: #434B5C;\n",
              "      --hover-fill-color: #FFFFFF;\n",
              "      --disabled-bg-color: #3B4455;\n",
              "      --disabled-fill-color: #666;\n",
              "  }\n",
              "\n",
              "  .colab-df-quickchart {\n",
              "    background-color: var(--bg-color);\n",
              "    border: none;\n",
              "    border-radius: 50%;\n",
              "    cursor: pointer;\n",
              "    display: none;\n",
              "    fill: var(--fill-color);\n",
              "    height: 32px;\n",
              "    padding: 0;\n",
              "    width: 32px;\n",
              "  }\n",
              "\n",
              "  .colab-df-quickchart:hover {\n",
              "    background-color: var(--hover-bg-color);\n",
              "    box-shadow: 0 1px 2px rgba(60, 64, 67, 0.3), 0 1px 3px 1px rgba(60, 64, 67, 0.15);\n",
              "    fill: var(--button-hover-fill-color);\n",
              "  }\n",
              "\n",
              "  .colab-df-quickchart-complete:disabled,\n",
              "  .colab-df-quickchart-complete:disabled:hover {\n",
              "    background-color: var(--disabled-bg-color);\n",
              "    fill: var(--disabled-fill-color);\n",
              "    box-shadow: none;\n",
              "  }\n",
              "\n",
              "  .colab-df-spinner {\n",
              "    border: 2px solid var(--fill-color);\n",
              "    border-color: transparent;\n",
              "    border-bottom-color: var(--fill-color);\n",
              "    animation:\n",
              "      spin 1s steps(1) infinite;\n",
              "  }\n",
              "\n",
              "  @keyframes spin {\n",
              "    0% {\n",
              "      border-color: transparent;\n",
              "      border-bottom-color: var(--fill-color);\n",
              "      border-left-color: var(--fill-color);\n",
              "    }\n",
              "    20% {\n",
              "      border-color: transparent;\n",
              "      border-left-color: var(--fill-color);\n",
              "      border-top-color: var(--fill-color);\n",
              "    }\n",
              "    30% {\n",
              "      border-color: transparent;\n",
              "      border-left-color: var(--fill-color);\n",
              "      border-top-color: var(--fill-color);\n",
              "      border-right-color: var(--fill-color);\n",
              "    }\n",
              "    40% {\n",
              "      border-color: transparent;\n",
              "      border-right-color: var(--fill-color);\n",
              "      border-top-color: var(--fill-color);\n",
              "    }\n",
              "    60% {\n",
              "      border-color: transparent;\n",
              "      border-right-color: var(--fill-color);\n",
              "    }\n",
              "    80% {\n",
              "      border-color: transparent;\n",
              "      border-right-color: var(--fill-color);\n",
              "      border-bottom-color: var(--fill-color);\n",
              "    }\n",
              "    90% {\n",
              "      border-color: transparent;\n",
              "      border-bottom-color: var(--fill-color);\n",
              "    }\n",
              "  }\n",
              "</style>\n",
              "\n",
              "  <script>\n",
              "    async function quickchart(key) {\n",
              "      const quickchartButtonEl =\n",
              "        document.querySelector('#' + key + ' button');\n",
              "      quickchartButtonEl.disabled = true;  // To prevent multiple clicks.\n",
              "      quickchartButtonEl.classList.add('colab-df-spinner');\n",
              "      try {\n",
              "        const charts = await google.colab.kernel.invokeFunction(\n",
              "            'suggestCharts', [key], {});\n",
              "      } catch (error) {\n",
              "        console.error('Error during call to suggestCharts:', error);\n",
              "      }\n",
              "      quickchartButtonEl.classList.remove('colab-df-spinner');\n",
              "      quickchartButtonEl.classList.add('colab-df-quickchart-complete');\n",
              "    }\n",
              "    (() => {\n",
              "      let quickchartButtonEl =\n",
              "        document.querySelector('#df-8eb0d56e-0cee-4779-8fd8-bca30c83323c button');\n",
              "      quickchartButtonEl.style.display =\n",
              "        google.colab.kernel.accessAllowed ? 'block' : 'none';\n",
              "    })();\n",
              "  </script>\n",
              "</div>\n",
              "\n",
              "    </div>\n",
              "  </div>\n"
            ],
            "application/vnd.google.colaboratory.intrinsic+json": {
              "type": "dataframe",
              "variable_name": "final_df",
              "summary": "{\n  \"name\": \"final_df\",\n  \"rows\": 1186,\n  \"fields\": [\n    {\n      \"column\": \"Close\",\n      \"properties\": {\n        \"dtype\": \"number\",\n        \"std\": 36.82303906206438,\n        \"min\": 26.594999313354492,\n        \"max\": 183.14999389648438,\n        \"num_unique_values\": 957,\n        \"samples\": [\n          145.89999389648438,\n          134.19000244140625,\n          143.6750030517578\n        ],\n        \"semantic_type\": \"\",\n        \"description\": \"\"\n      }\n    }\n  ]\n}"
            }
          },
          "metadata": {},
          "execution_count": 77
        }
      ]
    },
    {
      "cell_type": "code",
      "source": [
        "input_data=scaler.fit_transform(final_df)\n",
        "input_data"
      ],
      "metadata": {
        "colab": {
          "base_uri": "https://localhost:8080/"
        },
        "id": "zuxCFATc8qsU",
        "outputId": "86f65d2d-9e26-4a97-a7ea-c0681ed209ed"
      },
      "execution_count": null,
      "outputs": [
        {
          "output_type": "execute_result",
          "data": {
            "text/plain": [
              "array([[0.28309542],\n",
              "       [0.28130692],\n",
              "       [0.28101944],\n",
              "       ...,\n",
              "       [0.81188721],\n",
              "       [0.80722434],\n",
              "       [0.80588291]])"
            ]
          },
          "metadata": {},
          "execution_count": 78
        }
      ]
    },
    {
      "cell_type": "code",
      "source": [
        "x_test = []\n",
        "y_test = []\n",
        "for i in range(100, input_data.shape[0]):\n",
        "  x_test.append(input_data[i-100: i])\n",
        "  y_test.append(input_data[i, 0])\n"
      ],
      "metadata": {
        "id": "MsriJa7A89Mx"
      },
      "execution_count": null,
      "outputs": []
    },
    {
      "cell_type": "code",
      "source": [
        "x_test, y_test = np.array(x_test), np.array(y_test)\n",
        "print(x_test.shape)\n",
        "print(y_test. shape)"
      ],
      "metadata": {
        "colab": {
          "base_uri": "https://localhost:8080/"
        },
        "id": "l5CPntkN89PY",
        "outputId": "347a833b-67a2-475b-ceb1-fccacfc02877"
      },
      "execution_count": null,
      "outputs": [
        {
          "output_type": "stream",
          "name": "stdout",
          "text": [
            "(1086, 100, 1)\n",
            "(1086,)\n"
          ]
        }
      ]
    },
    {
      "cell_type": "code",
      "source": [
        "y_predicted=model.predict(x_test)"
      ],
      "metadata": {
        "colab": {
          "base_uri": "https://localhost:8080/"
        },
        "id": "-oiQ1nBu9N7i",
        "outputId": "01233762-c7eb-468a-ee46-cb491acf5aac"
      },
      "execution_count": null,
      "outputs": [
        {
          "output_type": "stream",
          "name": "stdout",
          "text": [
            "\u001b[1m34/34\u001b[0m \u001b[32m━━━━━━━━━━━━━━━━━━━━\u001b[0m\u001b[37m\u001b[0m \u001b[1m4s\u001b[0m 121ms/step\n"
          ]
        }
      ]
    },
    {
      "cell_type": "code",
      "source": [
        "y_predicted.shape"
      ],
      "metadata": {
        "colab": {
          "base_uri": "https://localhost:8080/"
        },
        "id": "M1gRiqzS-NWv",
        "outputId": "db69b109-1a84-44d7-e802-1d7c43768bc9"
      },
      "execution_count": null,
      "outputs": [
        {
          "output_type": "execute_result",
          "data": {
            "text/plain": [
              "(1086, 1)"
            ]
          },
          "metadata": {},
          "execution_count": 91
        }
      ]
    },
    {
      "cell_type": "code",
      "source": [
        "y_test"
      ],
      "metadata": {
        "colab": {
          "base_uri": "https://localhost:8080/"
        },
        "id": "AxxwXMRF9N-Q",
        "outputId": "dba89588-ab18-43a5-9e17-380f7ad7191a"
      },
      "execution_count": null,
      "outputs": [
        {
          "output_type": "execute_result",
          "data": {
            "text/plain": [
              "array([0.01226406, 0.01465939, 0.01750184, ..., 0.81188721, 0.80722434,\n",
              "       0.80588291])"
            ]
          },
          "metadata": {},
          "execution_count": 92
        }
      ]
    },
    {
      "cell_type": "code",
      "source": [
        "y_predicted"
      ],
      "metadata": {
        "colab": {
          "base_uri": "https://localhost:8080/"
        },
        "id": "YvYJ2pLF9WQg",
        "outputId": "d10fae43-aeee-4bee-abdd-13c06e66ba9e"
      },
      "execution_count": null,
      "outputs": [
        {
          "output_type": "execute_result",
          "data": {
            "text/plain": [
              "array([[0.57187706],\n",
              "       [0.5503426 ],\n",
              "       [0.49872357],\n",
              "       ...,\n",
              "       [0.8736893 ],\n",
              "       [0.8744034 ],\n",
              "       [0.87307394]], dtype=float32)"
            ]
          },
          "metadata": {},
          "execution_count": 93
        }
      ]
    },
    {
      "cell_type": "code",
      "source": [
        "scaler.scale_"
      ],
      "metadata": {
        "colab": {
          "base_uri": "https://localhost:8080/"
        },
        "id": "eFoVyJJr9X3Q",
        "outputId": "694bca8f-7680-4458-e3e5-5e3eb4062781"
      },
      "execution_count": null,
      "outputs": [
        {
          "output_type": "execute_result",
          "data": {
            "text/plain": [
              "array([0.00638753])"
            ]
          },
          "metadata": {},
          "execution_count": 94
        }
      ]
    },
    {
      "cell_type": "code",
      "source": [
        "scale_factor = 1/0.00638753\n",
        "y_predicted=y_predicted * scale_factor\n",
        "y_test=y_test * scale_factor"
      ],
      "metadata": {
        "id": "8B66XsjB9X6P"
      },
      "execution_count": null,
      "outputs": []
    },
    {
      "cell_type": "code",
      "source": [
        "plt.figure(figsize=(12,6))\n",
        "plt.plot(y_test, 'b', label = 'Original Price')\n",
        "plt.plot(y_predicted, 'r', label = 'Predicted Price')\n",
        "plt.xlabel('Time')\n",
        "plt.ylabel(\"Price\")\n",
        "plt.legend()\n",
        "plt.show()"
      ],
      "metadata": {
        "colab": {
          "base_uri": "https://localhost:8080/",
          "height": 542
        },
        "id": "cdU0vdcV9q6b",
        "outputId": "70320ad9-3430-4773-e030-3c0047e2186d"
      },
      "execution_count": null,
      "outputs": [
        {
          "output_type": "display_data",
          "data": {
            "text/plain": [
              "<Figure size 1200x600 with 1 Axes>"
            ],
            "image/png": "[encoded data removed]"
          },
          "metadata": {}
        }
      ]
    },
    {
      "cell_type": "code",
      "source": [
        "#Twitter API credentials\n",
        "consumer_key= 'J8byEqCJVeadFYXaXXpxB0XPA'\n",
        "consumer_secret= 'BtCnypxBLpOcjmH40o6sdeFkVtkEVN9ETZVj0fjLyR6kBMAduJ'\n",
        "\n",
        "access_token='593352028-586dxldnHIrPKM2aSfsq0yJBwe9ulEQNk6LWMlln'\n",
        "access_token_secret='JOnyIQx4oiR96Sp72vMQwZFJRdoOy2dtCXZqS7kbyrV2k'\n",
        "\n",
        "num_of_tweets = int(300)"
      ],
      "metadata": {
        "id": "PCFiEgRD9q9N"
      },
      "execution_count": 1,
      "outputs": []
    },
    {
      "cell_type": "code",
      "source": [
        "\n",
        "#Setting up modules for Tweepy\n",
        "import tweepy\n",
        "from textblob import TextBlob\n",
        "import nltk\n",
        "nltk.download('punkt')\n",
        "class Tweet(object):\n",
        "\n",
        "    def __init__(self, content, polarity):\n",
        "        self.content = content\n",
        "        self.polarity = polarity"
      ],
      "metadata": {
        "colab": {
          "base_uri": "https://localhost:8080/"
        },
        "id": "jYUF3JYEkrUS",
        "outputId": "089cdbf2-e590-412c-b70b-7d373571176f"
      },
      "execution_count": 2,
      "outputs": [
        {
          "output_type": "stream",
          "name": "stderr",
          "text": [
            "[nltk_data] Downloading package punkt to /root/nltk_data...\n",
            "[nltk_data]   Unzipping tokenizers/punkt.zip.\n"
          ]
        }
      ]
    },
    {
      "cell_type": "code",
      "source": [
        "def retrieving_tweets_polarity(symbol):\n",
        "\n",
        "    symbol = stock_full_form['Tatasteel'].to_list()[0][0:12]\n",
        "\n",
        "    auth = tweepy.OAuthHandler(consumer_key, consumer_secret)\n",
        "    auth.set_access_token(access_token, access_token_secret)\n",
        "    user = tweepy.API(auth)\n",
        "\n",
        "    tweets = tweepy.Cursor(user.search, q=symbol, tweet_mode='extended', lang='en',exclude_replies=True).items(num_of_tweets)\n",
        "\n",
        "    tweet_list = [] #List of tweets alongside polarity\n",
        "    global_polarity = 0 #Polarity of all tweets === Sum of polarities of individual tweets\n",
        "    tw_list=[] #List of tweets only => to be displayed on web page\n",
        "    #Count Positive, Negative to plot pie chart\n",
        "    pos=0 #Num of pos tweets\n",
        "    neg=1 #Num of negative tweets\n",
        "    for tweet in tweets:\n",
        "        count=20 #Num of tweets to be displayed on web page\n",
        "        #Convert to Textblob format for assigning polarity\n",
        "        tw2 = tweet.full_text\n",
        "        tw = tweet.full_text\n",
        "        #Clean\n",
        "        tw=p.clean(tw)\n",
        "        #print(\"-------------------------------CLEANED TWEET-----------------------------\")\n",
        "        #print(tw)\n",
        "        #Replace & by &\n",
        "        tw=re.sub('&','&',tw)\n",
        "        #Remove :\n",
        "        tw=re.sub(':','',tw)\n",
        "        #print(\"-------------------------------TWEET AFTER REGEX MATCHING-----------------------------\")\n",
        "        #print(tw)\n",
        "        #Remove Emojis and Hindi Characters\n",
        "        tw=tw.encode('ascii', 'ignore').decode('ascii')\n",
        "\n",
        "        #print(\"-------------------------------TWEET AFTER REMOVING NON ASCII CHARS-----------------------------\")\n",
        "        #print(tw)\n",
        "        blob = TextBlob(tw)\n",
        "        polarity = 0 #Polarity of single individual tweet\n",
        "        for sentence in blob.sentences:\n",
        "\n",
        "            polarity += sentence.sentiment.polarity\n",
        "            if polarity>0:\n",
        "                pos=pos+1\n",
        "            if polarity<0:\n",
        "                neg=neg+1\n",
        "\n",
        "            global_polarity += sentence.sentiment.polarity\n",
        "        if count > 0:\n",
        "            tw_list.append(tw2)\n",
        "\n",
        "        tweet_list.append(Tweet(tw, polarity))\n",
        "        count=count-1\n",
        "    if len(tweet_list) != 0:\n",
        "        global_polarity = global_polarity / len(tweet_list)\n",
        "    else:\n",
        "        global_polarity = global_polarity\n",
        "    neutral=num_of_tweets-pos-neg\n",
        "    if neutral<0:\n",
        "      neg=neg+neutral\n",
        "      neutral=20\n",
        "    print()\n",
        "    print(\"##############################################################################\")\n",
        "    print(\"Positive Tweets :\",pos,\"Negative Tweets :\",neg,\"Neutral Tweets :\",neutral)\n",
        "    print(\"##############################################################################\")\n",
        "    labels=['Positive','Negative','Neutral']\n",
        "    sizes = [pos,neg,neutral]\n",
        "    explode = (0, 0, 0)\n",
        "    fig = plt.figure(figsize=(7.2,4.8),dpi=65)\n",
        "    fig1, ax1 = plt.subplots(figsize=(7.2,4.8),dpi=65)\n",
        "    ax1.pie(sizes, explode=explode, labels=labels, autopct='%1.1f%%', startangle=90)\n",
        "    # Equal aspect ratio ensures that pie is drawn as a circle\n",
        "    ax1.axis('equal')\n",
        "    plt.tight_layout()\n",
        "    #plt.savefig('static/SA.png')\n",
        "    #plt.close(fig)\n",
        "    plt.show()\n",
        "    if global_polarity>0:\n",
        "        print()\n",
        "        print(\"##############################################################################\")\n",
        "        print(\"Tweets Polarity: Overall Positive\")\n",
        "        print(\"##############################################################################\")\n",
        "        tw_pol=\"Overall Positive\"\n",
        "    else:\n",
        "        print()\n",
        "        print(\"##############################################################################\")\n",
        "        print(\"Tweets Polarity: Overall Negative\")\n",
        "        print(\"##############################################################################\")\n",
        "        tw_pol=\"Overall Negative\"\n",
        "\n",
        "\n",
        "    return global_polarity,tw_list,tw_pol,pos,neg,neutral\n",
        ""
      ],
      "metadata": {
        "id": "PBnetg3ZkuFN"
      },
      "execution_count": 3,
      "outputs": []
    },
    {
      "cell_type": "code",
      "source": [],
      "metadata": {
        "id": "oe7lS6sBkwfV"
      },
      "execution_count": null,
      "outputs": []
    }
  ]
}